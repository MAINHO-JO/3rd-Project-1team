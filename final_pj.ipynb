{
  "nbformat": 4,
  "nbformat_minor": 0,
  "metadata": {
    "colab": {
      "provenance": []
    },
    "kernelspec": {
      "name": "python3",
      "display_name": "Python 3"
    },
    "language_info": {
      "name": "python"
    },
    "accelerator": "GPU",
    "gpuClass": "standard"
  },
  "cells": [
    {
      "cell_type": "code",
      "execution_count": 1,
      "metadata": {
        "id": "xMeDfHabvtDI"
      },
      "outputs": [],
      "source": [
        "import torch # 파이토치 기본 라이브러리\n",
        "\n",
        "# torchvision : 데이터셋, 모델 아키텍처, 컴퓨터 비전의 이미지 변환 기능 제공\n",
        "from torchvision import datasets # torchvision에서 제공하는 데이터셋\n",
        "from torchvision import transforms # 이미지 변환기능을 제공하는 패키지\n",
        "\n",
        "# torch.utils.data : 파이토치 데이터 로딩 유틸리티\n",
        "from torch.utils.data import DataLoader # 모델 훈련에 사용할 수 있는 미니 배치 구성하고\n",
        "                                        # 매 epoch마다 데이터를 샘플링, 병렬처리 등의 일을 해주는 함수\n",
        "\n",
        "from torch.utils.data import random_split\n",
        "\n",
        "import numpy as np\n",
        "import matplotlib.pyplot as plt\n",
        "\n",
        "from torch.utils.tensorboard import SummaryWriter\n",
        "from copy import deepcopy"
      ]
    },
    {
      "cell_type": "code",
      "source": [
        "from google.colab import drive\n",
        "drive.mount('/content/drive')"
      ],
      "metadata": {
        "colab": {
          "base_uri": "https://localhost:8080/"
        },
        "id": "WkKvgX1Jvw1m",
        "outputId": "96521c8a-59cc-4813-91ab-c0a23f3be7dd"
      },
      "execution_count": 2,
      "outputs": [
        {
          "output_type": "stream",
          "name": "stdout",
          "text": [
            "Mounted at /content/drive\n"
          ]
        }
      ]
    },
    {
      "cell_type": "code",
      "source": [
        "!nvidia-smi"
      ],
      "metadata": {
        "colab": {
          "base_uri": "https://localhost:8080/"
        },
        "id": "9WeFtax7v41u",
        "outputId": "6845aea3-81d3-43f9-86e8-35bf3df6b713"
      },
      "execution_count": 3,
      "outputs": [
        {
          "output_type": "stream",
          "name": "stdout",
          "text": [
            "Tue Apr 18 00:24:03 2023       \n",
            "+-----------------------------------------------------------------------------+\n",
            "| NVIDIA-SMI 525.85.12    Driver Version: 525.85.12    CUDA Version: 12.0     |\n",
            "|-------------------------------+----------------------+----------------------+\n",
            "| GPU  Name        Persistence-M| Bus-Id        Disp.A | Volatile Uncorr. ECC |\n",
            "| Fan  Temp  Perf  Pwr:Usage/Cap|         Memory-Usage | GPU-Util  Compute M. |\n",
            "|                               |                      |               MIG M. |\n",
            "|===============================+======================+======================|\n",
            "|   0  Tesla T4            Off  | 00000000:00:04.0 Off |                    0 |\n",
            "| N/A   49C    P8     9W /  70W |      0MiB / 15360MiB |      0%      Default |\n",
            "|                               |                      |                  N/A |\n",
            "+-------------------------------+----------------------+----------------------+\n",
            "                                                                               \n",
            "+-----------------------------------------------------------------------------+\n",
            "| Processes:                                                                  |\n",
            "|  GPU   GI   CI        PID   Type   Process name                  GPU Memory |\n",
            "|        ID   ID                                                   Usage      |\n",
            "|=============================================================================|\n",
            "|  No running processes found                                                 |\n",
            "+-----------------------------------------------------------------------------+\n"
          ]
        }
      ]
    },
    {
      "cell_type": "code",
      "source": [
        "device = torch.device('cuda' if torch.cuda.is_available() else 'cpu')\n",
        "device"
      ],
      "metadata": {
        "colab": {
          "base_uri": "https://localhost:8080/"
        },
        "id": "VjXd2dkrv6S-",
        "outputId": "8fb84dd1-ea49-4aae-c74e-1ee123966b9c"
      },
      "execution_count": 4,
      "outputs": [
        {
          "output_type": "execute_result",
          "data": {
            "text/plain": [
              "device(type='cuda')"
            ]
          },
          "metadata": {},
          "execution_count": 4
        }
      ]
    },
    {
      "cell_type": "code",
      "source": [
        "%pwd"
      ],
      "metadata": {
        "colab": {
          "base_uri": "https://localhost:8080/",
          "height": 35
        },
        "id": "cnU33e0Av-L3",
        "outputId": "8b853baf-559f-421f-c1c9-58df872ad4ea"
      },
      "execution_count": 5,
      "outputs": [
        {
          "output_type": "execute_result",
          "data": {
            "text/plain": [
              "'/content'"
            ],
            "application/vnd.google.colaboratory.intrinsic+json": {
              "type": "string"
            }
          },
          "metadata": {},
          "execution_count": 5
        }
      ]
    },
    {
      "cell_type": "code",
      "source": [
        "from google.colab import drive\n",
        "drive.mount('/content/drive')\n",
        "!cp '/content/drive/MyDrive/pj3/open.zip' './'\n",
        "!unzip -q open.zip -d open/"
      ],
      "metadata": {
        "colab": {
          "base_uri": "https://localhost:8080/"
        },
        "id": "0VCprXAxv-pu",
        "outputId": "4c3b1cba-50a8-4d26-9c87-9ecc533ddeee"
      },
      "execution_count": 6,
      "outputs": [
        {
          "output_type": "stream",
          "name": "stdout",
          "text": [
            "Drive already mounted at /content/drive; to attempt to forcibly remount, call drive.mount(\"/content/drive\", force_remount=True).\n"
          ]
        }
      ]
    },
    {
      "cell_type": "code",
      "source": [
        "transform = transforms.Compose([transforms.Resize([224, 224]), transforms.ToTensor(),transforms.Normalize((0.5, 0.5, 0.5), (0.5, 0.5, 0.5))])"
      ],
      "metadata": {
        "id": "8PTLtsizwAye"
      },
      "execution_count": 7,
      "outputs": []
    },
    {
      "cell_type": "code",
      "source": [
        "import pandas as pd"
      ],
      "metadata": {
        "id": "j5BWNDQpwES-"
      },
      "execution_count": 8,
      "outputs": []
    },
    {
      "cell_type": "code",
      "source": [
        "from torch.utils.data import Dataset\n",
        "import glob\n",
        "from PIL import Image # Image.open(path)\n",
        "test_dict={'몰딩수정':0, '석고수정':1, '훼손':2, '피스':3, '녹오염':4, '가구수정':5, '오염':6, '들뜸':7, '곰팡이':8,\n",
        "       '창틀,문틀수정':9, '울음':10, '오타공':11, '반점':12, '면불량':13, '터짐':14, '틈새과다':15, '걸레받이수정':16,\n",
        "       '이음부불량':17, '꼬임':18}\n",
        "class remodelDataset(Dataset):\n",
        "    def __init__(self, root, transform):\n",
        "        self.filepaths = glob.glob(root + '*/*.png')\n",
        "        self.transform = transform\n",
        "\n",
        "    def __len__(self):  # len(MyDataset)\n",
        "        return len(self.filepaths)\n",
        "\n",
        "    def __getitem__(self, index): # MyDataset[index]\n",
        "\n",
        "        # (1) image 준비\n",
        "        image_filepath = self.filepaths[index]\n",
        "        image = Image.open(image_filepath)         \n",
        "\n",
        "        \n",
        "        transformed_image = self.transform(image) # Resize -> To Tensor\n",
        "\n",
        "        # (2) label 준비\n",
        "        dir_label = image_filepath.split('/')[-2]\n",
        "        label_=test_dict[dir_label]\n",
        "        return transformed_image ,label_\n",
        "    "
      ],
      "metadata": {
        "id": "X5An0znrwGPO"
      },
      "execution_count": 9,
      "outputs": []
    },
    {
      "cell_type": "code",
      "source": [
        "class testDataset(Dataset):\n",
        "    def __init__(self, root, transform):\n",
        "        self.filepaths = glob.glob(root + '*/*.png')\n",
        "        self.transform = transform\n",
        "\n",
        "    def __len__(self):  # len(MyDataset)\n",
        "        return len(self.filepaths)\n",
        "\n",
        "    def __getitem__(self, index): # MyDataset[index]\n",
        "\n",
        "        # (1) image 준비\n",
        "        image_filepath = self.filepaths[index]\n",
        "        image = Image.open(image_filepath)         \n",
        "\n",
        "        \n",
        "        transformed_image = self.transform(image) # Resize -> To Tensor\n",
        "\n",
        "        # (2) label 준비\n",
        "        dir_label = image_filepath.split('/')[-2]\n",
        "        label_=test_dict[dir_label]\n",
        "        return transformed_image \n",
        "    "
      ],
      "metadata": {
        "id": "NvWB6jGIXu8J"
      },
      "execution_count": 10,
      "outputs": []
    },
    {
      "cell_type": "code",
      "source": [
        "trainset = remodelDataset(root ='/content/open/train/', transform=transform)"
      ],
      "metadata": {
        "id": "9JU-ZtUQwOaW"
      },
      "execution_count": 11,
      "outputs": []
    },
    {
      "cell_type": "code",
      "source": [
        "all_img_list = glob.glob('./open/train/*/*.png')"
      ],
      "metadata": {
        "id": "i3ICTD0OwQ-G"
      },
      "execution_count": 13,
      "outputs": []
    },
    {
      "cell_type": "code",
      "source": [
        "df = pd.DataFrame(columns=['img_path', 'label'])\n",
        "df['img_path'] = all_img_list\n",
        "df['label'] = df['img_path'].apply(lambda x : str(x).split('/')[-2])"
      ],
      "metadata": {
        "id": "zxirFaJUwSxu"
      },
      "execution_count": 14,
      "outputs": []
    },
    {
      "cell_type": "code",
      "source": [
        "from sklearn import preprocessing"
      ],
      "metadata": {
        "id": "vyLBISFdwUzu"
      },
      "execution_count": 15,
      "outputs": []
    },
    {
      "cell_type": "code",
      "source": [
        "le = preprocessing.LabelEncoder()\n",
        "df['label_num'] = le.fit_transform(df['label'])"
      ],
      "metadata": {
        "id": "QiOBcRNqwWTO"
      },
      "execution_count": 17,
      "outputs": []
    },
    {
      "cell_type": "code",
      "source": [
        "df"
      ],
      "metadata": {
        "colab": {
          "base_uri": "https://localhost:8080/",
          "height": 423
        },
        "id": "kG7nejRiwX1d",
        "outputId": "c86123bc-cfe2-4d12-e980-539f8c5c3dc1"
      },
      "execution_count": 16,
      "outputs": [
        {
          "output_type": "execute_result",
          "data": {
            "text/plain": [
              "                      img_path label\n",
              "0      ./open/train/훼손/407.png    훼손\n",
              "1      ./open/train/훼손/932.png    훼손\n",
              "2      ./open/train/훼손/936.png    훼손\n",
              "3      ./open/train/훼손/280.png    훼손\n",
              "4     ./open/train/훼손/1038.png    훼손\n",
              "...                        ...   ...\n",
              "3452  ./open/train/곰팡이/138.png   곰팡이\n",
              "3453  ./open/train/곰팡이/143.png   곰팡이\n",
              "3454   ./open/train/곰팡이/57.png   곰팡이\n",
              "3455   ./open/train/곰팡이/44.png   곰팡이\n",
              "3456  ./open/train/곰팡이/109.png   곰팡이\n",
              "\n",
              "[3457 rows x 2 columns]"
            ],
            "text/html": [
              "\n",
              "  <div id=\"df-f2e81af6-39b4-406d-953b-8be37a58f89f\">\n",
              "    <div class=\"colab-df-container\">\n",
              "      <div>\n",
              "<style scoped>\n",
              "    .dataframe tbody tr th:only-of-type {\n",
              "        vertical-align: middle;\n",
              "    }\n",
              "\n",
              "    .dataframe tbody tr th {\n",
              "        vertical-align: top;\n",
              "    }\n",
              "\n",
              "    .dataframe thead th {\n",
              "        text-align: right;\n",
              "    }\n",
              "</style>\n",
              "<table border=\"1\" class=\"dataframe\">\n",
              "  <thead>\n",
              "    <tr style=\"text-align: right;\">\n",
              "      <th></th>\n",
              "      <th>img_path</th>\n",
              "      <th>label</th>\n",
              "    </tr>\n",
              "  </thead>\n",
              "  <tbody>\n",
              "    <tr>\n",
              "      <th>0</th>\n",
              "      <td>./open/train/훼손/407.png</td>\n",
              "      <td>훼손</td>\n",
              "    </tr>\n",
              "    <tr>\n",
              "      <th>1</th>\n",
              "      <td>./open/train/훼손/932.png</td>\n",
              "      <td>훼손</td>\n",
              "    </tr>\n",
              "    <tr>\n",
              "      <th>2</th>\n",
              "      <td>./open/train/훼손/936.png</td>\n",
              "      <td>훼손</td>\n",
              "    </tr>\n",
              "    <tr>\n",
              "      <th>3</th>\n",
              "      <td>./open/train/훼손/280.png</td>\n",
              "      <td>훼손</td>\n",
              "    </tr>\n",
              "    <tr>\n",
              "      <th>4</th>\n",
              "      <td>./open/train/훼손/1038.png</td>\n",
              "      <td>훼손</td>\n",
              "    </tr>\n",
              "    <tr>\n",
              "      <th>...</th>\n",
              "      <td>...</td>\n",
              "      <td>...</td>\n",
              "    </tr>\n",
              "    <tr>\n",
              "      <th>3452</th>\n",
              "      <td>./open/train/곰팡이/138.png</td>\n",
              "      <td>곰팡이</td>\n",
              "    </tr>\n",
              "    <tr>\n",
              "      <th>3453</th>\n",
              "      <td>./open/train/곰팡이/143.png</td>\n",
              "      <td>곰팡이</td>\n",
              "    </tr>\n",
              "    <tr>\n",
              "      <th>3454</th>\n",
              "      <td>./open/train/곰팡이/57.png</td>\n",
              "      <td>곰팡이</td>\n",
              "    </tr>\n",
              "    <tr>\n",
              "      <th>3455</th>\n",
              "      <td>./open/train/곰팡이/44.png</td>\n",
              "      <td>곰팡이</td>\n",
              "    </tr>\n",
              "    <tr>\n",
              "      <th>3456</th>\n",
              "      <td>./open/train/곰팡이/109.png</td>\n",
              "      <td>곰팡이</td>\n",
              "    </tr>\n",
              "  </tbody>\n",
              "</table>\n",
              "<p>3457 rows × 2 columns</p>\n",
              "</div>\n",
              "      <button class=\"colab-df-convert\" onclick=\"convertToInteractive('df-f2e81af6-39b4-406d-953b-8be37a58f89f')\"\n",
              "              title=\"Convert this dataframe to an interactive table.\"\n",
              "              style=\"display:none;\">\n",
              "        \n",
              "  <svg xmlns=\"http://www.w3.org/2000/svg\" height=\"24px\"viewBox=\"0 0 24 24\"\n",
              "       width=\"24px\">\n",
              "    <path d=\"M0 0h24v24H0V0z\" fill=\"none\"/>\n",
              "    <path d=\"M18.56 5.44l.94 2.06.94-2.06 2.06-.94-2.06-.94-.94-2.06-.94 2.06-2.06.94zm-11 1L8.5 8.5l.94-2.06 2.06-.94-2.06-.94L8.5 2.5l-.94 2.06-2.06.94zm10 10l.94 2.06.94-2.06 2.06-.94-2.06-.94-.94-2.06-.94 2.06-2.06.94z\"/><path d=\"M17.41 7.96l-1.37-1.37c-.4-.4-.92-.59-1.43-.59-.52 0-1.04.2-1.43.59L10.3 9.45l-7.72 7.72c-.78.78-.78 2.05 0 2.83L4 21.41c.39.39.9.59 1.41.59.51 0 1.02-.2 1.41-.59l7.78-7.78 2.81-2.81c.8-.78.8-2.07 0-2.86zM5.41 20L4 18.59l7.72-7.72 1.47 1.35L5.41 20z\"/>\n",
              "  </svg>\n",
              "      </button>\n",
              "      \n",
              "  <style>\n",
              "    .colab-df-container {\n",
              "      display:flex;\n",
              "      flex-wrap:wrap;\n",
              "      gap: 12px;\n",
              "    }\n",
              "\n",
              "    .colab-df-convert {\n",
              "      background-color: #E8F0FE;\n",
              "      border: none;\n",
              "      border-radius: 50%;\n",
              "      cursor: pointer;\n",
              "      display: none;\n",
              "      fill: #1967D2;\n",
              "      height: 32px;\n",
              "      padding: 0 0 0 0;\n",
              "      width: 32px;\n",
              "    }\n",
              "\n",
              "    .colab-df-convert:hover {\n",
              "      background-color: #E2EBFA;\n",
              "      box-shadow: 0px 1px 2px rgba(60, 64, 67, 0.3), 0px 1px 3px 1px rgba(60, 64, 67, 0.15);\n",
              "      fill: #174EA6;\n",
              "    }\n",
              "\n",
              "    [theme=dark] .colab-df-convert {\n",
              "      background-color: #3B4455;\n",
              "      fill: #D2E3FC;\n",
              "    }\n",
              "\n",
              "    [theme=dark] .colab-df-convert:hover {\n",
              "      background-color: #434B5C;\n",
              "      box-shadow: 0px 1px 3px 1px rgba(0, 0, 0, 0.15);\n",
              "      filter: drop-shadow(0px 1px 2px rgba(0, 0, 0, 0.3));\n",
              "      fill: #FFFFFF;\n",
              "    }\n",
              "  </style>\n",
              "\n",
              "      <script>\n",
              "        const buttonEl =\n",
              "          document.querySelector('#df-f2e81af6-39b4-406d-953b-8be37a58f89f button.colab-df-convert');\n",
              "        buttonEl.style.display =\n",
              "          google.colab.kernel.accessAllowed ? 'block' : 'none';\n",
              "\n",
              "        async function convertToInteractive(key) {\n",
              "          const element = document.querySelector('#df-f2e81af6-39b4-406d-953b-8be37a58f89f');\n",
              "          const dataTable =\n",
              "            await google.colab.kernel.invokeFunction('convertToInteractive',\n",
              "                                                     [key], {});\n",
              "          if (!dataTable) return;\n",
              "\n",
              "          const docLinkHtml = 'Like what you see? Visit the ' +\n",
              "            '<a target=\"_blank\" href=https://colab.research.google.com/notebooks/data_table.ipynb>data table notebook</a>'\n",
              "            + ' to learn more about interactive tables.';\n",
              "          element.innerHTML = '';\n",
              "          dataTable['output_type'] = 'display_data';\n",
              "          await google.colab.output.renderOutput(dataTable, element);\n",
              "          const docLink = document.createElement('div');\n",
              "          docLink.innerHTML = docLinkHtml;\n",
              "          element.appendChild(docLink);\n",
              "        }\n",
              "      </script>\n",
              "    </div>\n",
              "  </div>\n",
              "  "
            ]
          },
          "metadata": {},
          "execution_count": 16
        }
      ]
    },
    {
      "cell_type": "code",
      "source": [
        "from sklearn.model_selection import train_test_split\n",
        "\n",
        "train_indices, valid_indices = train_test_split(\n",
        "                            range(len(df)), # X의 index\n",
        "                             # y\n",
        "                            stratify=df.label_num, # target의 비율이 train과 valid에 그대로 반영되게\n",
        "                            test_size= 0.2, random_state=42)"
      ],
      "metadata": {
        "id": "NjrWtL5QwYop"
      },
      "execution_count": 18,
      "outputs": []
    },
    {
      "cell_type": "code",
      "source": [
        "from torch.utils.data import Subset\n",
        "train_set = Subset(trainset, train_indices)\n",
        "valid_set = Subset(trainset, valid_indices)"
      ],
      "metadata": {
        "id": "vCBR6sUowbnf"
      },
      "execution_count": 19,
      "outputs": []
    },
    {
      "cell_type": "code",
      "source": [
        "batch_size = 16 # 100 -> 16\n",
        "# dataloader = DataLoader(데이터셋, 배치사이즈, 셔플여부.....)\n",
        "trainloader = DataLoader(train_set, batch_size=batch_size, shuffle=True) # 훈련용 50000개의 데이터를 100개씩 준비\n",
        "validloader = DataLoader(valid_set, batch_size=batch_size, shuffle=False) # 검증용 10000개의 데이터를 100개씩 준비\n"
      ],
      "metadata": {
        "id": "DZP7_cxNwgdm"
      },
      "execution_count": 20,
      "outputs": []
    },
    {
      "cell_type": "code",
      "source": [
        "testloader = DataLoader(testset, batch_size=batch_size, shuffle=False)"
      ],
      "metadata": {
        "id": "_tY5o8Z6aBRJ"
      },
      "execution_count": 21,
      "outputs": []
    },
    {
      "cell_type": "code",
      "source": [
        "print(type(trainloader), len(trainloader))\n",
        "print(type(validloader), len(validloader))"
      ],
      "metadata": {
        "colab": {
          "base_uri": "https://localhost:8080/"
        },
        "id": "y29xCP53whPm",
        "outputId": "3815b54e-0729-432b-b969-b452728c9b35"
      },
      "execution_count": null,
      "outputs": [
        {
          "output_type": "stream",
          "name": "stdout",
          "text": [
            "<class 'torch.utils.data.dataloader.DataLoader'> 173\n",
            "<class 'torch.utils.data.dataloader.DataLoader'> 44\n"
          ]
        }
      ]
    },
    {
      "cell_type": "code",
      "source": [
        "import torch.nn as nn # 파이토치에서 제공하는 다양한 계층 (Linear Layer, ....)\n",
        "import torch.optim as optim # 옵티마이저 (경사하강법...)\n",
        "import torch.nn.functional as F "
      ],
      "metadata": {
        "id": "j7tcwrZ8whM-"
      },
      "execution_count": 22,
      "outputs": []
    },
    {
      "cell_type": "code",
      "source": [
        "train_iter = iter(trainloader)\n",
        "images, labels = next(train_iter)\n",
        "images.shape"
      ],
      "metadata": {
        "colab": {
          "base_uri": "https://localhost:8080/"
        },
        "id": "snj7PWFdwhKR",
        "outputId": "73d4a26d-2f02-4e17-e55f-94d08b236ca4"
      },
      "execution_count": 23,
      "outputs": [
        {
          "output_type": "execute_result",
          "data": {
            "text/plain": [
              "torch.Size([16, 3, 224, 224])"
            ]
          },
          "metadata": {},
          "execution_count": 23
        }
      ]
    },
    {
      "cell_type": "code",
      "source": [
        "labels"
      ],
      "metadata": {
        "colab": {
          "base_uri": "https://localhost:8080/"
        },
        "id": "HBT4uPliwhHe",
        "outputId": "3be2d74b-fbf5-4c00-8ce7-da7172fb124d"
      },
      "execution_count": 24,
      "outputs": [
        {
          "output_type": "execute_result",
          "data": {
            "text/plain": [
              "tensor([ 2,  8,  2, 16,  2,  6,  2,  0,  2,  2,  2,  2,  5, 14,  2,  2])"
            ]
          },
          "metadata": {},
          "execution_count": 24
        }
      ]
    },
    {
      "cell_type": "code",
      "source": [],
      "metadata": {
        "id": "Ofs336ibx6G1"
      },
      "execution_count": null,
      "outputs": []
    },
    {
      "cell_type": "code",
      "source": [
        "import torch.nn as nn # 파이토치에서 제공하는 다양한 계층 (Linear Layer, ....)\n",
        "import torch.optim as optim # 옵티마이저 (경사하강법...)\n",
        "import torch.nn.functional as F"
      ],
      "metadata": {
        "id": "kp3CDCcuBSDz"
      },
      "execution_count": 25,
      "outputs": []
    },
    {
      "cell_type": "code",
      "source": [
        "import torchvision.models as models\n",
        "#https://github.com/pytorch/vision/blob/6db1569c89094cf23f3bc41f79275c45e9fcb3f3/torchvision/models/googlenet.py"
      ],
      "metadata": {
        "id": "f3aDiVpOBl2d"
      },
      "execution_count": 26,
      "outputs": []
    },
    {
      "cell_type": "code",
      "source": [
        "model = models.googlenet(pretrained=True, progress=True)"
      ],
      "metadata": {
        "colab": {
          "base_uri": "https://localhost:8080/"
        },
        "id": "cDwagpl0Blz1",
        "outputId": "e59ff05e-3cc7-429d-8dcb-4de95f478f56"
      },
      "execution_count": 27,
      "outputs": [
        {
          "output_type": "stream",
          "name": "stderr",
          "text": [
            "/usr/local/lib/python3.9/dist-packages/torchvision/models/_utils.py:208: UserWarning: The parameter 'pretrained' is deprecated since 0.13 and may be removed in the future, please use 'weights' instead.\n",
            "  warnings.warn(\n",
            "/usr/local/lib/python3.9/dist-packages/torchvision/models/_utils.py:223: UserWarning: Arguments other than a weight enum or `None` for 'weights' are deprecated since 0.13 and may be removed in the future. The current behavior is equivalent to passing `weights=GoogLeNet_Weights.IMAGENET1K_V1`. You can also use `weights=GoogLeNet_Weights.DEFAULT` to get the most up-to-date weights.\n",
            "  warnings.warn(msg)\n",
            "Downloading: \"https://download.pytorch.org/models/googlenet-1378be20.pth\" to /root/.cache/torch/hub/checkpoints/googlenet-1378be20.pth\n",
            "100%|██████████| 49.7M/49.7M [00:00<00:00, 59.4MB/s]\n"
          ]
        }
      ]
    },
    {
      "cell_type": "code",
      "source": [
        "for parameter in model.parameters():\n",
        "  print(parameter.requires_grad)"
      ],
      "metadata": {
        "id": "7NZe0ZKwBlxk",
        "colab": {
          "base_uri": "https://localhost:8080/"
        },
        "outputId": "a07af334-ddba-4218-fa4b-f86a188bccf2"
      },
      "execution_count": 28,
      "outputs": [
        {
          "output_type": "stream",
          "name": "stdout",
          "text": [
            "True\n",
            "True\n",
            "True\n",
            "True\n",
            "True\n",
            "True\n",
            "True\n",
            "True\n",
            "True\n",
            "True\n",
            "True\n",
            "True\n",
            "True\n",
            "True\n",
            "True\n",
            "True\n",
            "True\n",
            "True\n",
            "True\n",
            "True\n",
            "True\n",
            "True\n",
            "True\n",
            "True\n",
            "True\n",
            "True\n",
            "True\n",
            "True\n",
            "True\n",
            "True\n",
            "True\n",
            "True\n",
            "True\n",
            "True\n",
            "True\n",
            "True\n",
            "True\n",
            "True\n",
            "True\n",
            "True\n",
            "True\n",
            "True\n",
            "True\n",
            "True\n",
            "True\n",
            "True\n",
            "True\n",
            "True\n",
            "True\n",
            "True\n",
            "True\n",
            "True\n",
            "True\n",
            "True\n",
            "True\n",
            "True\n",
            "True\n",
            "True\n",
            "True\n",
            "True\n",
            "True\n",
            "True\n",
            "True\n",
            "True\n",
            "True\n",
            "True\n",
            "True\n",
            "True\n",
            "True\n",
            "True\n",
            "True\n",
            "True\n",
            "True\n",
            "True\n",
            "True\n",
            "True\n",
            "True\n",
            "True\n",
            "True\n",
            "True\n",
            "True\n",
            "True\n",
            "True\n",
            "True\n",
            "True\n",
            "True\n",
            "True\n",
            "True\n",
            "True\n",
            "True\n",
            "True\n",
            "True\n",
            "True\n",
            "True\n",
            "True\n",
            "True\n",
            "True\n",
            "True\n",
            "True\n",
            "True\n",
            "True\n",
            "True\n",
            "True\n",
            "True\n",
            "True\n",
            "True\n",
            "True\n",
            "True\n",
            "True\n",
            "True\n",
            "True\n",
            "True\n",
            "True\n",
            "True\n",
            "True\n",
            "True\n",
            "True\n",
            "True\n",
            "True\n",
            "True\n",
            "True\n",
            "True\n",
            "True\n",
            "True\n",
            "True\n",
            "True\n",
            "True\n",
            "True\n",
            "True\n",
            "True\n",
            "True\n",
            "True\n",
            "True\n",
            "True\n",
            "True\n",
            "True\n",
            "True\n",
            "True\n",
            "True\n",
            "True\n",
            "True\n",
            "True\n",
            "True\n",
            "True\n",
            "True\n",
            "True\n",
            "True\n",
            "True\n",
            "True\n",
            "True\n",
            "True\n",
            "True\n",
            "True\n",
            "True\n",
            "True\n",
            "True\n",
            "True\n",
            "True\n",
            "True\n",
            "True\n",
            "True\n",
            "True\n",
            "True\n",
            "True\n",
            "True\n",
            "True\n",
            "True\n",
            "True\n",
            "True\n",
            "True\n",
            "True\n",
            "True\n",
            "True\n"
          ]
        }
      ]
    },
    {
      "cell_type": "code",
      "source": [
        "for parameter in model.parameters():\n",
        "  parameter.requires_grad = False # 학습이 안되게 고정\n",
        "\n",
        "for parameter in model.fc.parameters():\n",
        "  parameter.requires_grad = True"
      ],
      "metadata": {
        "id": "rMZVO4oVCv3w"
      },
      "execution_count": 29,
      "outputs": []
    },
    {
      "cell_type": "code",
      "source": [
        "model.fc=nn.Linear(in_features=1024, out_features=19, bias=True)"
      ],
      "metadata": {
        "id": "9EADNs7DHHMj"
      },
      "execution_count": 30,
      "outputs": []
    },
    {
      "cell_type": "code",
      "source": [
        "from torchsummary import summary"
      ],
      "metadata": {
        "id": "rRoCM_nFwo6W"
      },
      "execution_count": 31,
      "outputs": []
    },
    {
      "cell_type": "code",
      "source": [
        "model.to(device)\n",
        "model"
      ],
      "metadata": {
        "id": "kucdK0kfOaXi",
        "colab": {
          "base_uri": "https://localhost:8080/"
        },
        "outputId": "b092b4fb-cdcd-4527-eea8-e235c500f9fe"
      },
      "execution_count": 33,
      "outputs": [
        {
          "output_type": "execute_result",
          "data": {
            "text/plain": [
              "GoogLeNet(\n",
              "  (conv1): BasicConv2d(\n",
              "    (conv): Conv2d(3, 64, kernel_size=(7, 7), stride=(2, 2), padding=(3, 3), bias=False)\n",
              "    (bn): BatchNorm2d(64, eps=0.001, momentum=0.1, affine=True, track_running_stats=True)\n",
              "  )\n",
              "  (maxpool1): MaxPool2d(kernel_size=3, stride=2, padding=0, dilation=1, ceil_mode=True)\n",
              "  (conv2): BasicConv2d(\n",
              "    (conv): Conv2d(64, 64, kernel_size=(1, 1), stride=(1, 1), bias=False)\n",
              "    (bn): BatchNorm2d(64, eps=0.001, momentum=0.1, affine=True, track_running_stats=True)\n",
              "  )\n",
              "  (conv3): BasicConv2d(\n",
              "    (conv): Conv2d(64, 192, kernel_size=(3, 3), stride=(1, 1), padding=(1, 1), bias=False)\n",
              "    (bn): BatchNorm2d(192, eps=0.001, momentum=0.1, affine=True, track_running_stats=True)\n",
              "  )\n",
              "  (maxpool2): MaxPool2d(kernel_size=3, stride=2, padding=0, dilation=1, ceil_mode=True)\n",
              "  (inception3a): Inception(\n",
              "    (branch1): BasicConv2d(\n",
              "      (conv): Conv2d(192, 64, kernel_size=(1, 1), stride=(1, 1), bias=False)\n",
              "      (bn): BatchNorm2d(64, eps=0.001, momentum=0.1, affine=True, track_running_stats=True)\n",
              "    )\n",
              "    (branch2): Sequential(\n",
              "      (0): BasicConv2d(\n",
              "        (conv): Conv2d(192, 96, kernel_size=(1, 1), stride=(1, 1), bias=False)\n",
              "        (bn): BatchNorm2d(96, eps=0.001, momentum=0.1, affine=True, track_running_stats=True)\n",
              "      )\n",
              "      (1): BasicConv2d(\n",
              "        (conv): Conv2d(96, 128, kernel_size=(3, 3), stride=(1, 1), padding=(1, 1), bias=False)\n",
              "        (bn): BatchNorm2d(128, eps=0.001, momentum=0.1, affine=True, track_running_stats=True)\n",
              "      )\n",
              "    )\n",
              "    (branch3): Sequential(\n",
              "      (0): BasicConv2d(\n",
              "        (conv): Conv2d(192, 16, kernel_size=(1, 1), stride=(1, 1), bias=False)\n",
              "        (bn): BatchNorm2d(16, eps=0.001, momentum=0.1, affine=True, track_running_stats=True)\n",
              "      )\n",
              "      (1): BasicConv2d(\n",
              "        (conv): Conv2d(16, 32, kernel_size=(3, 3), stride=(1, 1), padding=(1, 1), bias=False)\n",
              "        (bn): BatchNorm2d(32, eps=0.001, momentum=0.1, affine=True, track_running_stats=True)\n",
              "      )\n",
              "    )\n",
              "    (branch4): Sequential(\n",
              "      (0): MaxPool2d(kernel_size=3, stride=1, padding=1, dilation=1, ceil_mode=True)\n",
              "      (1): BasicConv2d(\n",
              "        (conv): Conv2d(192, 32, kernel_size=(1, 1), stride=(1, 1), bias=False)\n",
              "        (bn): BatchNorm2d(32, eps=0.001, momentum=0.1, affine=True, track_running_stats=True)\n",
              "      )\n",
              "    )\n",
              "  )\n",
              "  (inception3b): Inception(\n",
              "    (branch1): BasicConv2d(\n",
              "      (conv): Conv2d(256, 128, kernel_size=(1, 1), stride=(1, 1), bias=False)\n",
              "      (bn): BatchNorm2d(128, eps=0.001, momentum=0.1, affine=True, track_running_stats=True)\n",
              "    )\n",
              "    (branch2): Sequential(\n",
              "      (0): BasicConv2d(\n",
              "        (conv): Conv2d(256, 128, kernel_size=(1, 1), stride=(1, 1), bias=False)\n",
              "        (bn): BatchNorm2d(128, eps=0.001, momentum=0.1, affine=True, track_running_stats=True)\n",
              "      )\n",
              "      (1): BasicConv2d(\n",
              "        (conv): Conv2d(128, 192, kernel_size=(3, 3), stride=(1, 1), padding=(1, 1), bias=False)\n",
              "        (bn): BatchNorm2d(192, eps=0.001, momentum=0.1, affine=True, track_running_stats=True)\n",
              "      )\n",
              "    )\n",
              "    (branch3): Sequential(\n",
              "      (0): BasicConv2d(\n",
              "        (conv): Conv2d(256, 32, kernel_size=(1, 1), stride=(1, 1), bias=False)\n",
              "        (bn): BatchNorm2d(32, eps=0.001, momentum=0.1, affine=True, track_running_stats=True)\n",
              "      )\n",
              "      (1): BasicConv2d(\n",
              "        (conv): Conv2d(32, 96, kernel_size=(3, 3), stride=(1, 1), padding=(1, 1), bias=False)\n",
              "        (bn): BatchNorm2d(96, eps=0.001, momentum=0.1, affine=True, track_running_stats=True)\n",
              "      )\n",
              "    )\n",
              "    (branch4): Sequential(\n",
              "      (0): MaxPool2d(kernel_size=3, stride=1, padding=1, dilation=1, ceil_mode=True)\n",
              "      (1): BasicConv2d(\n",
              "        (conv): Conv2d(256, 64, kernel_size=(1, 1), stride=(1, 1), bias=False)\n",
              "        (bn): BatchNorm2d(64, eps=0.001, momentum=0.1, affine=True, track_running_stats=True)\n",
              "      )\n",
              "    )\n",
              "  )\n",
              "  (maxpool3): MaxPool2d(kernel_size=3, stride=2, padding=0, dilation=1, ceil_mode=True)\n",
              "  (inception4a): Inception(\n",
              "    (branch1): BasicConv2d(\n",
              "      (conv): Conv2d(480, 192, kernel_size=(1, 1), stride=(1, 1), bias=False)\n",
              "      (bn): BatchNorm2d(192, eps=0.001, momentum=0.1, affine=True, track_running_stats=True)\n",
              "    )\n",
              "    (branch2): Sequential(\n",
              "      (0): BasicConv2d(\n",
              "        (conv): Conv2d(480, 96, kernel_size=(1, 1), stride=(1, 1), bias=False)\n",
              "        (bn): BatchNorm2d(96, eps=0.001, momentum=0.1, affine=True, track_running_stats=True)\n",
              "      )\n",
              "      (1): BasicConv2d(\n",
              "        (conv): Conv2d(96, 208, kernel_size=(3, 3), stride=(1, 1), padding=(1, 1), bias=False)\n",
              "        (bn): BatchNorm2d(208, eps=0.001, momentum=0.1, affine=True, track_running_stats=True)\n",
              "      )\n",
              "    )\n",
              "    (branch3): Sequential(\n",
              "      (0): BasicConv2d(\n",
              "        (conv): Conv2d(480, 16, kernel_size=(1, 1), stride=(1, 1), bias=False)\n",
              "        (bn): BatchNorm2d(16, eps=0.001, momentum=0.1, affine=True, track_running_stats=True)\n",
              "      )\n",
              "      (1): BasicConv2d(\n",
              "        (conv): Conv2d(16, 48, kernel_size=(3, 3), stride=(1, 1), padding=(1, 1), bias=False)\n",
              "        (bn): BatchNorm2d(48, eps=0.001, momentum=0.1, affine=True, track_running_stats=True)\n",
              "      )\n",
              "    )\n",
              "    (branch4): Sequential(\n",
              "      (0): MaxPool2d(kernel_size=3, stride=1, padding=1, dilation=1, ceil_mode=True)\n",
              "      (1): BasicConv2d(\n",
              "        (conv): Conv2d(480, 64, kernel_size=(1, 1), stride=(1, 1), bias=False)\n",
              "        (bn): BatchNorm2d(64, eps=0.001, momentum=0.1, affine=True, track_running_stats=True)\n",
              "      )\n",
              "    )\n",
              "  )\n",
              "  (inception4b): Inception(\n",
              "    (branch1): BasicConv2d(\n",
              "      (conv): Conv2d(512, 160, kernel_size=(1, 1), stride=(1, 1), bias=False)\n",
              "      (bn): BatchNorm2d(160, eps=0.001, momentum=0.1, affine=True, track_running_stats=True)\n",
              "    )\n",
              "    (branch2): Sequential(\n",
              "      (0): BasicConv2d(\n",
              "        (conv): Conv2d(512, 112, kernel_size=(1, 1), stride=(1, 1), bias=False)\n",
              "        (bn): BatchNorm2d(112, eps=0.001, momentum=0.1, affine=True, track_running_stats=True)\n",
              "      )\n",
              "      (1): BasicConv2d(\n",
              "        (conv): Conv2d(112, 224, kernel_size=(3, 3), stride=(1, 1), padding=(1, 1), bias=False)\n",
              "        (bn): BatchNorm2d(224, eps=0.001, momentum=0.1, affine=True, track_running_stats=True)\n",
              "      )\n",
              "    )\n",
              "    (branch3): Sequential(\n",
              "      (0): BasicConv2d(\n",
              "        (conv): Conv2d(512, 24, kernel_size=(1, 1), stride=(1, 1), bias=False)\n",
              "        (bn): BatchNorm2d(24, eps=0.001, momentum=0.1, affine=True, track_running_stats=True)\n",
              "      )\n",
              "      (1): BasicConv2d(\n",
              "        (conv): Conv2d(24, 64, kernel_size=(3, 3), stride=(1, 1), padding=(1, 1), bias=False)\n",
              "        (bn): BatchNorm2d(64, eps=0.001, momentum=0.1, affine=True, track_running_stats=True)\n",
              "      )\n",
              "    )\n",
              "    (branch4): Sequential(\n",
              "      (0): MaxPool2d(kernel_size=3, stride=1, padding=1, dilation=1, ceil_mode=True)\n",
              "      (1): BasicConv2d(\n",
              "        (conv): Conv2d(512, 64, kernel_size=(1, 1), stride=(1, 1), bias=False)\n",
              "        (bn): BatchNorm2d(64, eps=0.001, momentum=0.1, affine=True, track_running_stats=True)\n",
              "      )\n",
              "    )\n",
              "  )\n",
              "  (inception4c): Inception(\n",
              "    (branch1): BasicConv2d(\n",
              "      (conv): Conv2d(512, 128, kernel_size=(1, 1), stride=(1, 1), bias=False)\n",
              "      (bn): BatchNorm2d(128, eps=0.001, momentum=0.1, affine=True, track_running_stats=True)\n",
              "    )\n",
              "    (branch2): Sequential(\n",
              "      (0): BasicConv2d(\n",
              "        (conv): Conv2d(512, 128, kernel_size=(1, 1), stride=(1, 1), bias=False)\n",
              "        (bn): BatchNorm2d(128, eps=0.001, momentum=0.1, affine=True, track_running_stats=True)\n",
              "      )\n",
              "      (1): BasicConv2d(\n",
              "        (conv): Conv2d(128, 256, kernel_size=(3, 3), stride=(1, 1), padding=(1, 1), bias=False)\n",
              "        (bn): BatchNorm2d(256, eps=0.001, momentum=0.1, affine=True, track_running_stats=True)\n",
              "      )\n",
              "    )\n",
              "    (branch3): Sequential(\n",
              "      (0): BasicConv2d(\n",
              "        (conv): Conv2d(512, 24, kernel_size=(1, 1), stride=(1, 1), bias=False)\n",
              "        (bn): BatchNorm2d(24, eps=0.001, momentum=0.1, affine=True, track_running_stats=True)\n",
              "      )\n",
              "      (1): BasicConv2d(\n",
              "        (conv): Conv2d(24, 64, kernel_size=(3, 3), stride=(1, 1), padding=(1, 1), bias=False)\n",
              "        (bn): BatchNorm2d(64, eps=0.001, momentum=0.1, affine=True, track_running_stats=True)\n",
              "      )\n",
              "    )\n",
              "    (branch4): Sequential(\n",
              "      (0): MaxPool2d(kernel_size=3, stride=1, padding=1, dilation=1, ceil_mode=True)\n",
              "      (1): BasicConv2d(\n",
              "        (conv): Conv2d(512, 64, kernel_size=(1, 1), stride=(1, 1), bias=False)\n",
              "        (bn): BatchNorm2d(64, eps=0.001, momentum=0.1, affine=True, track_running_stats=True)\n",
              "      )\n",
              "    )\n",
              "  )\n",
              "  (inception4d): Inception(\n",
              "    (branch1): BasicConv2d(\n",
              "      (conv): Conv2d(512, 112, kernel_size=(1, 1), stride=(1, 1), bias=False)\n",
              "      (bn): BatchNorm2d(112, eps=0.001, momentum=0.1, affine=True, track_running_stats=True)\n",
              "    )\n",
              "    (branch2): Sequential(\n",
              "      (0): BasicConv2d(\n",
              "        (conv): Conv2d(512, 144, kernel_size=(1, 1), stride=(1, 1), bias=False)\n",
              "        (bn): BatchNorm2d(144, eps=0.001, momentum=0.1, affine=True, track_running_stats=True)\n",
              "      )\n",
              "      (1): BasicConv2d(\n",
              "        (conv): Conv2d(144, 288, kernel_size=(3, 3), stride=(1, 1), padding=(1, 1), bias=False)\n",
              "        (bn): BatchNorm2d(288, eps=0.001, momentum=0.1, affine=True, track_running_stats=True)\n",
              "      )\n",
              "    )\n",
              "    (branch3): Sequential(\n",
              "      (0): BasicConv2d(\n",
              "        (conv): Conv2d(512, 32, kernel_size=(1, 1), stride=(1, 1), bias=False)\n",
              "        (bn): BatchNorm2d(32, eps=0.001, momentum=0.1, affine=True, track_running_stats=True)\n",
              "      )\n",
              "      (1): BasicConv2d(\n",
              "        (conv): Conv2d(32, 64, kernel_size=(3, 3), stride=(1, 1), padding=(1, 1), bias=False)\n",
              "        (bn): BatchNorm2d(64, eps=0.001, momentum=0.1, affine=True, track_running_stats=True)\n",
              "      )\n",
              "    )\n",
              "    (branch4): Sequential(\n",
              "      (0): MaxPool2d(kernel_size=3, stride=1, padding=1, dilation=1, ceil_mode=True)\n",
              "      (1): BasicConv2d(\n",
              "        (conv): Conv2d(512, 64, kernel_size=(1, 1), stride=(1, 1), bias=False)\n",
              "        (bn): BatchNorm2d(64, eps=0.001, momentum=0.1, affine=True, track_running_stats=True)\n",
              "      )\n",
              "    )\n",
              "  )\n",
              "  (inception4e): Inception(\n",
              "    (branch1): BasicConv2d(\n",
              "      (conv): Conv2d(528, 256, kernel_size=(1, 1), stride=(1, 1), bias=False)\n",
              "      (bn): BatchNorm2d(256, eps=0.001, momentum=0.1, affine=True, track_running_stats=True)\n",
              "    )\n",
              "    (branch2): Sequential(\n",
              "      (0): BasicConv2d(\n",
              "        (conv): Conv2d(528, 160, kernel_size=(1, 1), stride=(1, 1), bias=False)\n",
              "        (bn): BatchNorm2d(160, eps=0.001, momentum=0.1, affine=True, track_running_stats=True)\n",
              "      )\n",
              "      (1): BasicConv2d(\n",
              "        (conv): Conv2d(160, 320, kernel_size=(3, 3), stride=(1, 1), padding=(1, 1), bias=False)\n",
              "        (bn): BatchNorm2d(320, eps=0.001, momentum=0.1, affine=True, track_running_stats=True)\n",
              "      )\n",
              "    )\n",
              "    (branch3): Sequential(\n",
              "      (0): BasicConv2d(\n",
              "        (conv): Conv2d(528, 32, kernel_size=(1, 1), stride=(1, 1), bias=False)\n",
              "        (bn): BatchNorm2d(32, eps=0.001, momentum=0.1, affine=True, track_running_stats=True)\n",
              "      )\n",
              "      (1): BasicConv2d(\n",
              "        (conv): Conv2d(32, 128, kernel_size=(3, 3), stride=(1, 1), padding=(1, 1), bias=False)\n",
              "        (bn): BatchNorm2d(128, eps=0.001, momentum=0.1, affine=True, track_running_stats=True)\n",
              "      )\n",
              "    )\n",
              "    (branch4): Sequential(\n",
              "      (0): MaxPool2d(kernel_size=3, stride=1, padding=1, dilation=1, ceil_mode=True)\n",
              "      (1): BasicConv2d(\n",
              "        (conv): Conv2d(528, 128, kernel_size=(1, 1), stride=(1, 1), bias=False)\n",
              "        (bn): BatchNorm2d(128, eps=0.001, momentum=0.1, affine=True, track_running_stats=True)\n",
              "      )\n",
              "    )\n",
              "  )\n",
              "  (maxpool4): MaxPool2d(kernel_size=2, stride=2, padding=0, dilation=1, ceil_mode=True)\n",
              "  (inception5a): Inception(\n",
              "    (branch1): BasicConv2d(\n",
              "      (conv): Conv2d(832, 256, kernel_size=(1, 1), stride=(1, 1), bias=False)\n",
              "      (bn): BatchNorm2d(256, eps=0.001, momentum=0.1, affine=True, track_running_stats=True)\n",
              "    )\n",
              "    (branch2): Sequential(\n",
              "      (0): BasicConv2d(\n",
              "        (conv): Conv2d(832, 160, kernel_size=(1, 1), stride=(1, 1), bias=False)\n",
              "        (bn): BatchNorm2d(160, eps=0.001, momentum=0.1, affine=True, track_running_stats=True)\n",
              "      )\n",
              "      (1): BasicConv2d(\n",
              "        (conv): Conv2d(160, 320, kernel_size=(3, 3), stride=(1, 1), padding=(1, 1), bias=False)\n",
              "        (bn): BatchNorm2d(320, eps=0.001, momentum=0.1, affine=True, track_running_stats=True)\n",
              "      )\n",
              "    )\n",
              "    (branch3): Sequential(\n",
              "      (0): BasicConv2d(\n",
              "        (conv): Conv2d(832, 32, kernel_size=(1, 1), stride=(1, 1), bias=False)\n",
              "        (bn): BatchNorm2d(32, eps=0.001, momentum=0.1, affine=True, track_running_stats=True)\n",
              "      )\n",
              "      (1): BasicConv2d(\n",
              "        (conv): Conv2d(32, 128, kernel_size=(3, 3), stride=(1, 1), padding=(1, 1), bias=False)\n",
              "        (bn): BatchNorm2d(128, eps=0.001, momentum=0.1, affine=True, track_running_stats=True)\n",
              "      )\n",
              "    )\n",
              "    (branch4): Sequential(\n",
              "      (0): MaxPool2d(kernel_size=3, stride=1, padding=1, dilation=1, ceil_mode=True)\n",
              "      (1): BasicConv2d(\n",
              "        (conv): Conv2d(832, 128, kernel_size=(1, 1), stride=(1, 1), bias=False)\n",
              "        (bn): BatchNorm2d(128, eps=0.001, momentum=0.1, affine=True, track_running_stats=True)\n",
              "      )\n",
              "    )\n",
              "  )\n",
              "  (inception5b): Inception(\n",
              "    (branch1): BasicConv2d(\n",
              "      (conv): Conv2d(832, 384, kernel_size=(1, 1), stride=(1, 1), bias=False)\n",
              "      (bn): BatchNorm2d(384, eps=0.001, momentum=0.1, affine=True, track_running_stats=True)\n",
              "    )\n",
              "    (branch2): Sequential(\n",
              "      (0): BasicConv2d(\n",
              "        (conv): Conv2d(832, 192, kernel_size=(1, 1), stride=(1, 1), bias=False)\n",
              "        (bn): BatchNorm2d(192, eps=0.001, momentum=0.1, affine=True, track_running_stats=True)\n",
              "      )\n",
              "      (1): BasicConv2d(\n",
              "        (conv): Conv2d(192, 384, kernel_size=(3, 3), stride=(1, 1), padding=(1, 1), bias=False)\n",
              "        (bn): BatchNorm2d(384, eps=0.001, momentum=0.1, affine=True, track_running_stats=True)\n",
              "      )\n",
              "    )\n",
              "    (branch3): Sequential(\n",
              "      (0): BasicConv2d(\n",
              "        (conv): Conv2d(832, 48, kernel_size=(1, 1), stride=(1, 1), bias=False)\n",
              "        (bn): BatchNorm2d(48, eps=0.001, momentum=0.1, affine=True, track_running_stats=True)\n",
              "      )\n",
              "      (1): BasicConv2d(\n",
              "        (conv): Conv2d(48, 128, kernel_size=(3, 3), stride=(1, 1), padding=(1, 1), bias=False)\n",
              "        (bn): BatchNorm2d(128, eps=0.001, momentum=0.1, affine=True, track_running_stats=True)\n",
              "      )\n",
              "    )\n",
              "    (branch4): Sequential(\n",
              "      (0): MaxPool2d(kernel_size=3, stride=1, padding=1, dilation=1, ceil_mode=True)\n",
              "      (1): BasicConv2d(\n",
              "        (conv): Conv2d(832, 128, kernel_size=(1, 1), stride=(1, 1), bias=False)\n",
              "        (bn): BatchNorm2d(128, eps=0.001, momentum=0.1, affine=True, track_running_stats=True)\n",
              "      )\n",
              "    )\n",
              "  )\n",
              "  (aux1): None\n",
              "  (aux2): None\n",
              "  (avgpool): AdaptiveAvgPool2d(output_size=(1, 1))\n",
              "  (dropout): Dropout(p=0.2, inplace=False)\n",
              "  (fc): Linear(in_features=1024, out_features=19, bias=True)\n",
              ")"
            ]
          },
          "metadata": {},
          "execution_count": 33
        }
      ]
    },
    {
      "cell_type": "code",
      "source": [
        "summary(model, (3, 32, 32))"
      ],
      "metadata": {
        "id": "7jDGZm3bwo1a",
        "colab": {
          "base_uri": "https://localhost:8080/"
        },
        "outputId": "592c9ede-cf75-415b-eda4-0fcc5a3572e8"
      },
      "execution_count": 34,
      "outputs": [
        {
          "output_type": "stream",
          "name": "stdout",
          "text": [
            "----------------------------------------------------------------\n",
            "        Layer (type)               Output Shape         Param #\n",
            "================================================================\n",
            "            Conv2d-1           [-1, 64, 16, 16]           9,408\n",
            "       BatchNorm2d-2           [-1, 64, 16, 16]             128\n",
            "       BasicConv2d-3           [-1, 64, 16, 16]               0\n",
            "         MaxPool2d-4             [-1, 64, 8, 8]               0\n",
            "            Conv2d-5             [-1, 64, 8, 8]           4,096\n",
            "       BatchNorm2d-6             [-1, 64, 8, 8]             128\n",
            "       BasicConv2d-7             [-1, 64, 8, 8]               0\n",
            "            Conv2d-8            [-1, 192, 8, 8]         110,592\n",
            "       BatchNorm2d-9            [-1, 192, 8, 8]             384\n",
            "      BasicConv2d-10            [-1, 192, 8, 8]               0\n",
            "        MaxPool2d-11            [-1, 192, 4, 4]               0\n",
            "           Conv2d-12             [-1, 64, 4, 4]          12,288\n",
            "      BatchNorm2d-13             [-1, 64, 4, 4]             128\n",
            "      BasicConv2d-14             [-1, 64, 4, 4]               0\n",
            "           Conv2d-15             [-1, 96, 4, 4]          18,432\n",
            "      BatchNorm2d-16             [-1, 96, 4, 4]             192\n",
            "      BasicConv2d-17             [-1, 96, 4, 4]               0\n",
            "           Conv2d-18            [-1, 128, 4, 4]         110,592\n",
            "      BatchNorm2d-19            [-1, 128, 4, 4]             256\n",
            "      BasicConv2d-20            [-1, 128, 4, 4]               0\n",
            "           Conv2d-21             [-1, 16, 4, 4]           3,072\n",
            "      BatchNorm2d-22             [-1, 16, 4, 4]              32\n",
            "      BasicConv2d-23             [-1, 16, 4, 4]               0\n",
            "           Conv2d-24             [-1, 32, 4, 4]           4,608\n",
            "      BatchNorm2d-25             [-1, 32, 4, 4]              64\n",
            "      BasicConv2d-26             [-1, 32, 4, 4]               0\n",
            "        MaxPool2d-27            [-1, 192, 4, 4]               0\n",
            "           Conv2d-28             [-1, 32, 4, 4]           6,144\n",
            "      BatchNorm2d-29             [-1, 32, 4, 4]              64\n",
            "      BasicConv2d-30             [-1, 32, 4, 4]               0\n",
            "        Inception-31            [-1, 256, 4, 4]               0\n",
            "           Conv2d-32            [-1, 128, 4, 4]          32,768\n",
            "      BatchNorm2d-33            [-1, 128, 4, 4]             256\n",
            "      BasicConv2d-34            [-1, 128, 4, 4]               0\n",
            "           Conv2d-35            [-1, 128, 4, 4]          32,768\n",
            "      BatchNorm2d-36            [-1, 128, 4, 4]             256\n",
            "      BasicConv2d-37            [-1, 128, 4, 4]               0\n",
            "           Conv2d-38            [-1, 192, 4, 4]         221,184\n",
            "      BatchNorm2d-39            [-1, 192, 4, 4]             384\n",
            "      BasicConv2d-40            [-1, 192, 4, 4]               0\n",
            "           Conv2d-41             [-1, 32, 4, 4]           8,192\n",
            "      BatchNorm2d-42             [-1, 32, 4, 4]              64\n",
            "      BasicConv2d-43             [-1, 32, 4, 4]               0\n",
            "           Conv2d-44             [-1, 96, 4, 4]          27,648\n",
            "      BatchNorm2d-45             [-1, 96, 4, 4]             192\n",
            "      BasicConv2d-46             [-1, 96, 4, 4]               0\n",
            "        MaxPool2d-47            [-1, 256, 4, 4]               0\n",
            "           Conv2d-48             [-1, 64, 4, 4]          16,384\n",
            "      BatchNorm2d-49             [-1, 64, 4, 4]             128\n",
            "      BasicConv2d-50             [-1, 64, 4, 4]               0\n",
            "        Inception-51            [-1, 480, 4, 4]               0\n",
            "        MaxPool2d-52            [-1, 480, 2, 2]               0\n",
            "           Conv2d-53            [-1, 192, 2, 2]          92,160\n",
            "      BatchNorm2d-54            [-1, 192, 2, 2]             384\n",
            "      BasicConv2d-55            [-1, 192, 2, 2]               0\n",
            "           Conv2d-56             [-1, 96, 2, 2]          46,080\n",
            "      BatchNorm2d-57             [-1, 96, 2, 2]             192\n",
            "      BasicConv2d-58             [-1, 96, 2, 2]               0\n",
            "           Conv2d-59            [-1, 208, 2, 2]         179,712\n",
            "      BatchNorm2d-60            [-1, 208, 2, 2]             416\n",
            "      BasicConv2d-61            [-1, 208, 2, 2]               0\n",
            "           Conv2d-62             [-1, 16, 2, 2]           7,680\n",
            "      BatchNorm2d-63             [-1, 16, 2, 2]              32\n",
            "      BasicConv2d-64             [-1, 16, 2, 2]               0\n",
            "           Conv2d-65             [-1, 48, 2, 2]           6,912\n",
            "      BatchNorm2d-66             [-1, 48, 2, 2]              96\n",
            "      BasicConv2d-67             [-1, 48, 2, 2]               0\n",
            "        MaxPool2d-68            [-1, 480, 2, 2]               0\n",
            "           Conv2d-69             [-1, 64, 2, 2]          30,720\n",
            "      BatchNorm2d-70             [-1, 64, 2, 2]             128\n",
            "      BasicConv2d-71             [-1, 64, 2, 2]               0\n",
            "        Inception-72            [-1, 512, 2, 2]               0\n",
            "           Conv2d-73            [-1, 160, 2, 2]          81,920\n",
            "      BatchNorm2d-74            [-1, 160, 2, 2]             320\n",
            "      BasicConv2d-75            [-1, 160, 2, 2]               0\n",
            "           Conv2d-76            [-1, 112, 2, 2]          57,344\n",
            "      BatchNorm2d-77            [-1, 112, 2, 2]             224\n",
            "      BasicConv2d-78            [-1, 112, 2, 2]               0\n",
            "           Conv2d-79            [-1, 224, 2, 2]         225,792\n",
            "      BatchNorm2d-80            [-1, 224, 2, 2]             448\n",
            "      BasicConv2d-81            [-1, 224, 2, 2]               0\n",
            "           Conv2d-82             [-1, 24, 2, 2]          12,288\n",
            "      BatchNorm2d-83             [-1, 24, 2, 2]              48\n",
            "      BasicConv2d-84             [-1, 24, 2, 2]               0\n",
            "           Conv2d-85             [-1, 64, 2, 2]          13,824\n",
            "      BatchNorm2d-86             [-1, 64, 2, 2]             128\n",
            "      BasicConv2d-87             [-1, 64, 2, 2]               0\n",
            "        MaxPool2d-88            [-1, 512, 2, 2]               0\n",
            "           Conv2d-89             [-1, 64, 2, 2]          32,768\n",
            "      BatchNorm2d-90             [-1, 64, 2, 2]             128\n",
            "      BasicConv2d-91             [-1, 64, 2, 2]               0\n",
            "        Inception-92            [-1, 512, 2, 2]               0\n",
            "           Conv2d-93            [-1, 128, 2, 2]          65,536\n",
            "      BatchNorm2d-94            [-1, 128, 2, 2]             256\n",
            "      BasicConv2d-95            [-1, 128, 2, 2]               0\n",
            "           Conv2d-96            [-1, 128, 2, 2]          65,536\n",
            "      BatchNorm2d-97            [-1, 128, 2, 2]             256\n",
            "      BasicConv2d-98            [-1, 128, 2, 2]               0\n",
            "           Conv2d-99            [-1, 256, 2, 2]         294,912\n",
            "     BatchNorm2d-100            [-1, 256, 2, 2]             512\n",
            "     BasicConv2d-101            [-1, 256, 2, 2]               0\n",
            "          Conv2d-102             [-1, 24, 2, 2]          12,288\n",
            "     BatchNorm2d-103             [-1, 24, 2, 2]              48\n",
            "     BasicConv2d-104             [-1, 24, 2, 2]               0\n",
            "          Conv2d-105             [-1, 64, 2, 2]          13,824\n",
            "     BatchNorm2d-106             [-1, 64, 2, 2]             128\n",
            "     BasicConv2d-107             [-1, 64, 2, 2]               0\n",
            "       MaxPool2d-108            [-1, 512, 2, 2]               0\n",
            "          Conv2d-109             [-1, 64, 2, 2]          32,768\n",
            "     BatchNorm2d-110             [-1, 64, 2, 2]             128\n",
            "     BasicConv2d-111             [-1, 64, 2, 2]               0\n",
            "       Inception-112            [-1, 512, 2, 2]               0\n",
            "          Conv2d-113            [-1, 112, 2, 2]          57,344\n",
            "     BatchNorm2d-114            [-1, 112, 2, 2]             224\n",
            "     BasicConv2d-115            [-1, 112, 2, 2]               0\n",
            "          Conv2d-116            [-1, 144, 2, 2]          73,728\n",
            "     BatchNorm2d-117            [-1, 144, 2, 2]             288\n",
            "     BasicConv2d-118            [-1, 144, 2, 2]               0\n",
            "          Conv2d-119            [-1, 288, 2, 2]         373,248\n",
            "     BatchNorm2d-120            [-1, 288, 2, 2]             576\n",
            "     BasicConv2d-121            [-1, 288, 2, 2]               0\n",
            "          Conv2d-122             [-1, 32, 2, 2]          16,384\n",
            "     BatchNorm2d-123             [-1, 32, 2, 2]              64\n",
            "     BasicConv2d-124             [-1, 32, 2, 2]               0\n",
            "          Conv2d-125             [-1, 64, 2, 2]          18,432\n",
            "     BatchNorm2d-126             [-1, 64, 2, 2]             128\n",
            "     BasicConv2d-127             [-1, 64, 2, 2]               0\n",
            "       MaxPool2d-128            [-1, 512, 2, 2]               0\n",
            "          Conv2d-129             [-1, 64, 2, 2]          32,768\n",
            "     BatchNorm2d-130             [-1, 64, 2, 2]             128\n",
            "     BasicConv2d-131             [-1, 64, 2, 2]               0\n",
            "       Inception-132            [-1, 528, 2, 2]               0\n",
            "          Conv2d-133            [-1, 256, 2, 2]         135,168\n",
            "     BatchNorm2d-134            [-1, 256, 2, 2]             512\n",
            "     BasicConv2d-135            [-1, 256, 2, 2]               0\n",
            "          Conv2d-136            [-1, 160, 2, 2]          84,480\n",
            "     BatchNorm2d-137            [-1, 160, 2, 2]             320\n",
            "     BasicConv2d-138            [-1, 160, 2, 2]               0\n",
            "          Conv2d-139            [-1, 320, 2, 2]         460,800\n",
            "     BatchNorm2d-140            [-1, 320, 2, 2]             640\n",
            "     BasicConv2d-141            [-1, 320, 2, 2]               0\n",
            "          Conv2d-142             [-1, 32, 2, 2]          16,896\n",
            "     BatchNorm2d-143             [-1, 32, 2, 2]              64\n",
            "     BasicConv2d-144             [-1, 32, 2, 2]               0\n",
            "          Conv2d-145            [-1, 128, 2, 2]          36,864\n",
            "     BatchNorm2d-146            [-1, 128, 2, 2]             256\n",
            "     BasicConv2d-147            [-1, 128, 2, 2]               0\n",
            "       MaxPool2d-148            [-1, 528, 2, 2]               0\n",
            "          Conv2d-149            [-1, 128, 2, 2]          67,584\n",
            "     BatchNorm2d-150            [-1, 128, 2, 2]             256\n",
            "     BasicConv2d-151            [-1, 128, 2, 2]               0\n",
            "       Inception-152            [-1, 832, 2, 2]               0\n",
            "       MaxPool2d-153            [-1, 832, 1, 1]               0\n",
            "          Conv2d-154            [-1, 256, 1, 1]         212,992\n",
            "     BatchNorm2d-155            [-1, 256, 1, 1]             512\n",
            "     BasicConv2d-156            [-1, 256, 1, 1]               0\n",
            "          Conv2d-157            [-1, 160, 1, 1]         133,120\n",
            "     BatchNorm2d-158            [-1, 160, 1, 1]             320\n",
            "     BasicConv2d-159            [-1, 160, 1, 1]               0\n",
            "          Conv2d-160            [-1, 320, 1, 1]         460,800\n",
            "     BatchNorm2d-161            [-1, 320, 1, 1]             640\n",
            "     BasicConv2d-162            [-1, 320, 1, 1]               0\n",
            "          Conv2d-163             [-1, 32, 1, 1]          26,624\n",
            "     BatchNorm2d-164             [-1, 32, 1, 1]              64\n",
            "     BasicConv2d-165             [-1, 32, 1, 1]               0\n",
            "          Conv2d-166            [-1, 128, 1, 1]          36,864\n",
            "     BatchNorm2d-167            [-1, 128, 1, 1]             256\n",
            "     BasicConv2d-168            [-1, 128, 1, 1]               0\n",
            "       MaxPool2d-169            [-1, 832, 1, 1]               0\n",
            "          Conv2d-170            [-1, 128, 1, 1]         106,496\n",
            "     BatchNorm2d-171            [-1, 128, 1, 1]             256\n",
            "     BasicConv2d-172            [-1, 128, 1, 1]               0\n",
            "       Inception-173            [-1, 832, 1, 1]               0\n",
            "          Conv2d-174            [-1, 384, 1, 1]         319,488\n",
            "     BatchNorm2d-175            [-1, 384, 1, 1]             768\n",
            "     BasicConv2d-176            [-1, 384, 1, 1]               0\n",
            "          Conv2d-177            [-1, 192, 1, 1]         159,744\n",
            "     BatchNorm2d-178            [-1, 192, 1, 1]             384\n",
            "     BasicConv2d-179            [-1, 192, 1, 1]               0\n",
            "          Conv2d-180            [-1, 384, 1, 1]         663,552\n",
            "     BatchNorm2d-181            [-1, 384, 1, 1]             768\n",
            "     BasicConv2d-182            [-1, 384, 1, 1]               0\n",
            "          Conv2d-183             [-1, 48, 1, 1]          39,936\n",
            "     BatchNorm2d-184             [-1, 48, 1, 1]              96\n",
            "     BasicConv2d-185             [-1, 48, 1, 1]               0\n",
            "          Conv2d-186            [-1, 128, 1, 1]          55,296\n",
            "     BatchNorm2d-187            [-1, 128, 1, 1]             256\n",
            "     BasicConv2d-188            [-1, 128, 1, 1]               0\n",
            "       MaxPool2d-189            [-1, 832, 1, 1]               0\n",
            "          Conv2d-190            [-1, 128, 1, 1]         106,496\n",
            "     BatchNorm2d-191            [-1, 128, 1, 1]             256\n",
            "     BasicConv2d-192            [-1, 128, 1, 1]               0\n",
            "       Inception-193           [-1, 1024, 1, 1]               0\n",
            "AdaptiveAvgPool2d-194           [-1, 1024, 1, 1]               0\n",
            "         Dropout-195                 [-1, 1024]               0\n",
            "          Linear-196                   [-1, 19]          19,475\n",
            "================================================================\n",
            "Total params: 5,619,379\n",
            "Trainable params: 19,475\n",
            "Non-trainable params: 5,599,904\n",
            "----------------------------------------------------------------\n",
            "Input size (MB): 0.01\n",
            "Forward/backward pass size (MB): 1.94\n",
            "Params size (MB): 21.44\n",
            "Estimated Total Size (MB): 23.38\n",
            "----------------------------------------------------------------\n"
          ]
        }
      ]
    },
    {
      "cell_type": "code",
      "source": [
        "def validate(model, validloader, loss_fn):\n",
        "  total = 0   \n",
        "  correct = 0\n",
        "  valid_loss = 0\n",
        "  valid_accuracy = 0\n",
        "\n",
        "  # 전방향 예측을 구할 때는 gradient가 필요가 없음음\n",
        "  with torch.no_grad():\n",
        "    for images, labels in validloader: # 이터레이터로부터 next()가 호출되며 미니배치 100개씩을 반환(images, labels)      \n",
        "      # images, labels : (torch.Size([16, 3, 32, 32]), torch.Size([16]))\n",
        "      # 0. Data를 GPU로 보내기\n",
        "      images, labels = images.to(device), labels.to(device)\n",
        "\n",
        "      # 1. 입력 데이터 준비\n",
        "      # not Flatten !!\n",
        "      # images.resize_(images.size()[0], 784)\n",
        "\n",
        "      # 2. 전방향(Forward) 예측\n",
        "      logit = model(images) # 예측 점수\n",
        "      _, preds = torch.max(logit, 1) # 배치에 대한 최종 예측\n",
        "      # preds = logit.max(dim=1)[1] \n",
        "      correct += int((preds == labels).sum()) # 배치 중 맞은 것의 개수가 correct에 누적\n",
        "      total += labels.shape[0] # 배치 사이즈만큼씩 total에 누적\n",
        "\n",
        "      loss = loss_fn(logit, labels)\n",
        "      valid_loss += loss.item() # tensor에서 값을 꺼내와서, 배치의 loss 평균값을 valid_loss에 누적\n",
        "\n",
        "    valid_accuracy = correct / total\n",
        "  \n",
        "  return valid_loss, valid_accuracy"
      ],
      "metadata": {
        "id": "EVOD45Z4woyu"
      },
      "execution_count": 35,
      "outputs": []
    },
    {
      "cell_type": "code",
      "source": [
        "learning_rate = 0.001\n",
        "# 손실함수\n",
        "loss_fn = nn.CrossEntropyLoss()\n",
        "\n",
        "# 옵티마이저(최적화함수, 예:경사하강법)\n",
        "# optimizer = optim.SGD(model.parameters(), lr=learning_rate)\n",
        "\n",
        "# 규제의 강도 설정 weight_decay\n",
        "optimizer = optim.Adam(model.parameters(), lr=learning_rate)\n",
        "# optimizer = optim.Adam(model.parameters(), lr=learning_rate, weight_decay=0.001)\n",
        "\n",
        "# Learning Rate Schedule\n",
        "# https://pytorch.org/docs/stable/generated/torch.optim.lr_scheduler.ReduceLROnPlateau.html\n",
        "\n",
        "# 모니터링하고 있는 값(예:valid_loss)의 최소값(min) 또는 최대값(max) patience 기간동안 줄어들지 않을 때(OnPlateau) lr에 factor(0.1)를 곱해주는 전략\n",
        "scheduler = optim.lr_scheduler.ReduceLROnPlateau(optimizer, mode='min', factor=0.1, patience=4, verbose=True)"
      ],
      "metadata": {
        "id": "S553McL3wo8t"
      },
      "execution_count": 36,
      "outputs": []
    },
    {
      "cell_type": "code",
      "source": [
        "writer = SummaryWriter()\n",
        "\n",
        "def train_loop(model, trainloader, loss_fn, epochs, optimizer):  \n",
        "  steps = 0\n",
        "  steps_per_epoch = len(trainloader) \n",
        "  min_loss = 1000000\n",
        "  max_accuracy = 0\n",
        "  trigger = 0\n",
        "  patience = 7 \n",
        "\n",
        "  for epoch in range(epochs):\n",
        "    model.train() # 훈련 모드\n",
        "    train_loss = 0\n",
        "    for images, labels in trainloader: # 이터레이터로부터 next()가 호출되며 미니배치를 반환(images, labels)\n",
        "      steps += 1\n",
        "      # images, labels : (torch.Size([16, 3, 32, 32]), torch.Size([16]))\n",
        "      # 0. Data를 GPU로 보내기\n",
        "      images, labels = images.to(device), labels.to(device)\n",
        "\n",
        "      # 1. 입력 데이터 준비\n",
        "      # not Flatten !!\n",
        "      # images.resize_(images.shape[0], 784) \n",
        "\n",
        "      # 2. 전방향(forward) 예측\n",
        "      predict = model(images) # 예측 점수\n",
        "      \n",
        "      loss = loss_fn(predict, labels) # 예측 점수와 정답을 CrossEntropyLoss에 넣어 Loss값 반환\n",
        "\n",
        "      # 3. 역방향(backward) 오차(Gradient) 전파\n",
        "      optimizer.zero_grad() # Gradient가 누적되지 않게 하기 위해\n",
        "      loss.backward() # 모델파리미터들의 Gradient 전파\n",
        "\n",
        "      # 4. 경사 하강법으로 모델 파라미터 업데이트\n",
        "      optimizer.step() # W <- W -lr*Gradient\n",
        "\n",
        "      train_loss += loss.item()\n",
        "      if (steps % steps_per_epoch) == 0 : \n",
        "        model.eval() # 평가 모드 : 평가에서 사용하지 않을 계층(배치 정규화, 드롭아웃)들을 수행하지 않게 하기 위해서\n",
        "        valid_loss, valid_accuracy = validate(model, validloader, loss_fn)\n",
        "\n",
        "        # tensorboard 시각화를 위한 로그 이벤트 등록\n",
        "        writer.add_scalar('Train Loss', train_loss/len(trainloader), epoch+1)\n",
        "        writer.add_scalar('Valid Loss', valid_loss/len(validloader), epoch+1)\n",
        "        writer.add_scalars('Train Loss and Valid Loss',\n",
        "                          {'Train' : train_loss/len(trainloader),\n",
        "                            'Valid' : valid_loss/len(validloader)}, epoch+1)\n",
        "        writer.add_scalar('Valid Accuracy', valid_accuracy, epoch+1)\n",
        "        # -------------------------------------------\n",
        "\n",
        "        print('Epoch : {}/{}.......'.format(epoch+1, epochs),            \n",
        "              'Train Loss : {:.3f}'.format(train_loss/len(trainloader)), \n",
        "              'Valid Loss : {:.3f}'.format(valid_loss/len(validloader)), \n",
        "              'Valid Accuracy : {:.3f}'.format(valid_accuracy)            \n",
        "              )\n",
        "        \n",
        "        # Best model 저장    \n",
        "        # option 1 : valid_loss 모니터링\n",
        "        # if valid_loss < min_loss: # 바로 이전 epoch의 loss보다 작으면 저장하기\n",
        "        #   min_loss = valid_loss\n",
        "        #   best_model_state = deepcopy(model.state_dict())          \n",
        "        #   torch.save(best_model_state, 'best_checkpoint.pth')     \n",
        "        \n",
        "        # option 2 : valid_accuracy 모니터링      \n",
        "        if valid_accuracy > max_accuracy : # 바로 이전 epoch의 accuracy보다 크면 저장하기\n",
        "          max_accuracy = valid_accuracy\n",
        "          best_model_state = deepcopy(model.state_dict())          \n",
        "          torch.save(best_model_state, 'best_checkpoint.pth')  \n",
        "        # -------------------------------------------\n",
        "\n",
        "        # Early Stopping (조기 종료)\n",
        "        if valid_loss > min_loss: # valid_loss가 min_loss를 갱신하지 못하면\n",
        "          trigger += 1\n",
        "          print('trigger : ', trigger)\n",
        "          if trigger > patience:\n",
        "            print('Early Stopping !!!')\n",
        "            print('Training loop is finished !!')\n",
        "            writer.flush()   \n",
        "            return\n",
        "        else:\n",
        "          trigger = 0\n",
        "          min_loss = valid_loss\n",
        "        # -------------------------------------------\n",
        "\n",
        "        # Learning Rate Scheduler\n",
        "        scheduler.step(valid_loss)\n",
        "        # -------------------------------------------\n",
        "        \n",
        "  writer.flush()\n",
        "  return  "
      ],
      "metadata": {
        "id": "E2gearXNwhFR"
      },
      "execution_count": 37,
      "outputs": []
    },
    {
      "cell_type": "code",
      "source": [
        "epochs = 55\n",
        "%time train_loop(model, trainloader, loss_fn, epochs, optimizer)\n",
        "writer.close()"
      ],
      "metadata": {
        "colab": {
          "base_uri": "https://localhost:8080/"
        },
        "id": "xuajg76sxFM_",
        "outputId": "1ec52b22-63cf-4a28-f14f-b8251777dff6"
      },
      "execution_count": null,
      "outputs": [
        {
          "output_type": "stream",
          "name": "stdout",
          "text": [
            "Epoch : 1/55....... Train Loss : 1.711 Valid Loss : 1.401 Valid Accuracy : 0.571\n",
            "Epoch : 2/55....... Train Loss : 1.282 Valid Loss : 1.197 Valid Accuracy : 0.646\n",
            "Epoch : 3/55....... Train Loss : 1.113 Valid Loss : 1.101 Valid Accuracy : 0.666\n",
            "Epoch : 4/55....... Train Loss : 1.044 Valid Loss : 1.084 Valid Accuracy : 0.662\n",
            "Epoch : 5/55....... Train Loss : 1.006 Valid Loss : 1.048 Valid Accuracy : 0.665\n",
            "Epoch : 6/55....... Train Loss : 0.936 Valid Loss : 1.026 Valid Accuracy : 0.684\n",
            "Epoch : 7/55....... Train Loss : 0.926 Valid Loss : 1.013 Valid Accuracy : 0.672\n",
            "Epoch : 8/55....... Train Loss : 0.881 Valid Loss : 1.009 Valid Accuracy : 0.675\n",
            "Epoch : 9/55....... Train Loss : 0.853 Valid Loss : 1.084 Valid Accuracy : 0.656\n",
            "trigger :  1\n"
          ]
        }
      ]
    },
    {
      "cell_type": "code",
      "source": [
        "test = pd.read_csv('./open/test.csv')"
      ],
      "metadata": {
        "id": "4ByvtNV1Uv3Z"
      },
      "execution_count": null,
      "outputs": []
    },
    {
      "cell_type": "code",
      "source": [
        "testset = testDataset(root ='/content/open/test/', transform=transform)"
      ],
      "metadata": {
        "id": "i8RRbN_qXp4Z"
      },
      "execution_count": 12,
      "outputs": []
    },
    {
      "cell_type": "code",
      "source": [
        "test_dataset = remodelDataset(test['img_path'].values, transform)\n",
        "#test_loader = DataLoader(test_dataset, batch_size=CFG['BATCH_SIZE'], shuffle=False, num_workers=0)"
      ],
      "metadata": {
        "id": "HeXBduVRUwtJ"
      },
      "execution_count": null,
      "outputs": []
    },
    {
      "cell_type": "code",
      "source": [
        "testset"
      ],
      "metadata": {
        "id": "OBexCl2OUwo6"
      },
      "execution_count": null,
      "outputs": []
    },
    {
      "cell_type": "code",
      "source": [
        "testloader"
      ],
      "metadata": {
        "id": "hq6I1q2_UwmB"
      },
      "execution_count": null,
      "outputs": []
    },
    {
      "cell_type": "code",
      "source": [
        "test_iter = iter(testloader)\n",
        "images, labels = next(test_iter)\n",
        "images.shape"
      ],
      "metadata": {
        "id": "mSBRnEokx_Kd"
      },
      "execution_count": null,
      "outputs": []
    }
  ]
}