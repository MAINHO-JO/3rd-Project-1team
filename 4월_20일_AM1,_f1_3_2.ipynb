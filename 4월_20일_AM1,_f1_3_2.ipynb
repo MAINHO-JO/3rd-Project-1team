{
  "cells": [
    {
      "cell_type": "markdown",
      "id": "eb0182b4-4f62-4ab2-9c5a-df50e9c07282",
      "metadata": {
        "id": "eb0182b4-4f62-4ab2-9c5a-df50e9c07282"
      },
      "source": [
        "# 0. 데이터 정리"
      ]
    },
    {
      "cell_type": "markdown",
      "id": "5210b2e9-6211-45a8-a5bc-7e1111d1475d",
      "metadata": {
        "id": "5210b2e9-6211-45a8-a5bc-7e1111d1475d"
      },
      "source": [
        "## 0 - 1. 필요 라이브러리 임포트"
      ]
    },
    {
      "cell_type": "code",
      "execution_count": null,
      "id": "b3f1642d-e82c-4740-ba41-af8fe730c908",
      "metadata": {
        "id": "b3f1642d-e82c-4740-ba41-af8fe730c908"
      },
      "outputs": [],
      "source": [
        "import torch # 파이토치 \n",
        "import random\n",
        "import numpy as np\n",
        "import os\n",
        "\n",
        "# 시드값 고정\n",
        "seed = 50\n",
        "os.environ['PYTHONHASHSEED'] = str(seed)\n",
        "random.seed(seed)                # 파이썬 난수 생성기 시드 고정\n",
        "np.random.seed(seed)             # 넘파이 난수 생성기 시드 고정\n",
        "torch.manual_seed(seed)          # 파이토치 난수 생성기 시드 고정 (CPU 사용 시)\n",
        "torch.cuda.manual_seed(seed)     # 파이토치 난수 생성기 시드 고정 (GPU 사용 시)\n",
        "torch.cuda.manual_seed_all(seed) # 파이토치 난수 생성기 시드 고정 (멀티GPU 사용 시)\n",
        "torch.backends.cudnn.deterministic = True # 확정적 연산 사용\n",
        "torch.backends.cudnn.benchmark = False    # 벤치마크 기능 해제\n",
        "torch.backends.cudnn.enabled = False      # cudnn 사용 해제"
      ]
    },
    {
      "cell_type": "code",
      "execution_count": null,
      "id": "0ad8ac67-d082-477b-bfd2-5f34fe315757",
      "metadata": {
        "id": "0ad8ac67-d082-477b-bfd2-5f34fe315757"
      },
      "outputs": [],
      "source": [
        "import torch \n",
        "import random\n",
        "\n",
        "import torchvision\n",
        "from torchvision import datasets \n",
        "from torchvision import transforms\n",
        "\n",
        "import glob\n",
        "import os\n",
        "import pandas as pd\n",
        "import matplotlib.image as mpimg\n",
        "import matplotlib.font_manager\n",
        "import matplotlib.pyplot as plt\n",
        "import numpy as np\n",
        "import cv2\n",
        "\n",
        "from PIL import Image\n",
        "\n",
        "from torch.utils.data import Dataset\n",
        "from torch.utils.data import DataLoader\n",
        "import torch.nn as nn \n",
        "import torch.optim as optim \n",
        "import torch.nn.functional as F\n",
        "\n",
        "\n",
        "import albumentations as A\n",
        "from albumentations.pytorch import ToTensorV2\n",
        "from copy import deepcopy\n",
        "\n",
        "from sklearn.model_selection import train_test_split\n",
        "from sklearn.preprocessing import LabelEncoder"
      ]
    },
    {
      "cell_type": "markdown",
      "id": "c574164a-f3f5-40d7-9383-87f6eb4a744a",
      "metadata": {
        "id": "c574164a-f3f5-40d7-9383-87f6eb4a744a"
      },
      "source": [
        "## 0-2. GPU 셋팅"
      ]
    },
    {
      "cell_type": "code",
      "execution_count": null,
      "id": "541699e6-c89a-4fea-9aff-fc4f34c2087f",
      "metadata": {
        "id": "541699e6-c89a-4fea-9aff-fc4f34c2087f",
        "outputId": "5be79f2b-253e-44cf-b160-868542a27169"
      },
      "outputs": [
        {
          "data": {
            "text/plain": [
              "device(type='cuda')"
            ]
          },
          "execution_count": 3,
          "metadata": {},
          "output_type": "execute_result"
        }
      ],
      "source": [
        "device = torch.device('cuda' if torch.cuda.is_available() else 'cpu')\n",
        "device"
      ]
    },
    {
      "cell_type": "code",
      "execution_count": null,
      "id": "b69dab20-7248-4aea-8fd1-1c4e49ea29d8",
      "metadata": {
        "id": "b69dab20-7248-4aea-8fd1-1c4e49ea29d8",
        "outputId": "b596369c-b82c-4023-ffd2-7a1a301d1b98"
      },
      "outputs": [
        {
          "name": "stdout",
          "output_type": "stream",
          "text": [
            "Thu Apr 20 00:14:00 2023       \n",
            "+-----------------------------------------------------------------------------+\n",
            "| NVIDIA-SMI 525.60.13    Driver Version: 525.60.13    CUDA Version: 12.0     |\n",
            "|-------------------------------+----------------------+----------------------+\n",
            "| GPU  Name        Persistence-M| Bus-Id        Disp.A | Volatile Uncorr. ECC |\n",
            "| Fan  Temp  Perf  Pwr:Usage/Cap|         Memory-Usage | GPU-Util  Compute M. |\n",
            "|                               |                      |               MIG M. |\n",
            "|===============================+======================+======================|\n",
            "|   0  NVIDIA A100 80G...  On   | 00000000:17:00.0 Off |                   On |\n",
            "| N/A   34C    P0    63W / 300W |                  N/A |     N/A      Default |\n",
            "|                               |                      |              Enabled |\n",
            "+-------------------------------+----------------------+----------------------+\n",
            "\n",
            "+-----------------------------------------------------------------------------+\n",
            "| MIG devices:                                                                |\n",
            "+------------------+----------------------+-----------+-----------------------+\n",
            "| GPU  GI  CI  MIG |         Memory-Usage |        Vol|         Shared        |\n",
            "|      ID  ID  Dev |           BAR1-Usage | SM     Unc| CE  ENC  DEC  OFA  JPG|\n",
            "|                  |                      |        ECC|                       |\n",
            "|==================+======================+===========+=======================|\n",
            "|  0    7   0   0  |   8092MiB /  9728MiB | 14      0 |  1   0    0    0    0 |\n",
            "|                  |      2MiB / 16383MiB |           |                       |\n",
            "+------------------+----------------------+-----------+-----------------------+\n",
            "                                                                               \n",
            "+-----------------------------------------------------------------------------+\n",
            "| Processes:                                                                  |\n",
            "|  GPU   GI   CI        PID   Type   Process name                  GPU Memory |\n",
            "|        ID   ID                                                   Usage      |\n",
            "|=============================================================================|\n",
            "+-----------------------------------------------------------------------------+\n"
          ]
        }
      ],
      "source": [
        "!nvidia-smi"
      ]
    },
    {
      "cell_type": "markdown",
      "id": "43ab54ba-ddad-4dfb-9215-61d92006b0d8",
      "metadata": {
        "tags": [],
        "id": "43ab54ba-ddad-4dfb-9215-61d92006b0d8"
      },
      "source": [
        "# 1. 데이터 불러오기"
      ]
    },
    {
      "cell_type": "code",
      "execution_count": null,
      "id": "322cc027-ffea-4a5b-a65d-377208cd905b",
      "metadata": {
        "id": "322cc027-ffea-4a5b-a65d-377208cd905b"
      },
      "outputs": [],
      "source": [
        "filepath = glob.glob('dobae/open/train/*/*.png')"
      ]
    },
    {
      "cell_type": "code",
      "execution_count": null,
      "id": "5e0d93cb-560e-4727-8668-d0cbcf5facec",
      "metadata": {
        "id": "5e0d93cb-560e-4727-8668-d0cbcf5facec"
      },
      "outputs": [],
      "source": [
        "df = pd.DataFrame(columns=['image', 'label'])\n",
        "df['image'] = filepath\n",
        "df['label'] = df['image'].str.split('/').str[-2]"
      ]
    },
    {
      "cell_type": "code",
      "execution_count": null,
      "id": "70c779ed-17c4-4b57-ac46-6bd676596856",
      "metadata": {
        "id": "70c779ed-17c4-4b57-ac46-6bd676596856",
        "outputId": "826bfa0a-f0f1-4bd2-f46c-32e341ea4936"
      },
      "outputs": [
        {
          "data": {
            "text/plain": [
              "(image    dobae/open/train/걸레받이수정/60.png\n",
              " label                            걸레받이수정\n",
              " Name: 35, dtype: object,\n",
              " 3457)"
            ]
          },
          "execution_count": 7,
          "metadata": {},
          "output_type": "execute_result"
        }
      ],
      "source": [
        "df.iloc[35], len(filepath)"
      ]
    },
    {
      "cell_type": "code",
      "execution_count": null,
      "id": "6d2c4469-0af8-4847-97bf-36c254276a1a",
      "metadata": {
        "id": "6d2c4469-0af8-4847-97bf-36c254276a1a"
      },
      "outputs": [],
      "source": [
        "encoder = LabelEncoder()\n",
        "encoder.fit(df['label'])\n",
        "all_labels = encoder.transform(df['label'])\n",
        "df['label_encode'] = all_labels\n",
        "# encoding.inverse_transform #(encoding 한 코드 다시 원본으로 )"
      ]
    },
    {
      "cell_type": "markdown",
      "id": "8191ef26-a9c2-4d29-aa4b-8c10337bfa84",
      "metadata": {
        "id": "8191ef26-a9c2-4d29-aa4b-8c10337bfa84"
      },
      "source": [
        "## 데이터셋 나누기 "
      ]
    },
    {
      "cell_type": "code",
      "execution_count": null,
      "id": "730c27e0-4ec2-49eb-b7eb-0461bffcd7bc",
      "metadata": {
        "id": "730c27e0-4ec2-49eb-b7eb-0461bffcd7bc"
      },
      "outputs": [],
      "source": [
        "train_set, valid_set , _,_ = train_test_split(df,df['label_encode'],test_size=0.2, stratify=df['label_encode'],random_state=42)\n",
        "# stratify : class 비율을 일정하게 만들어 준다. Target 값으로 넣어주면 그 값의 비율에 맞게 나누어 주기 때문에 꼭 필요!"
      ]
    },
    {
      "cell_type": "markdown",
      "id": "e79bba23-d844-41d5-8c49-5c356d0631ba",
      "metadata": {
        "id": "e79bba23-d844-41d5-8c49-5c356d0631ba"
      },
      "source": [
        "## 전처리기 만들기 "
      ]
    },
    {
      "cell_type": "code",
      "execution_count": null,
      "id": "cb92e3c8-ac20-43f5-9610-6683cfea3b72",
      "metadata": {
        "id": "cb92e3c8-ac20-43f5-9610-6683cfea3b72"
      },
      "outputs": [],
      "source": [
        "class MyData(Dataset):\n",
        "    def __init__(self, image_filepath, label_filepath, transform=None):\n",
        "        self.image_filepath = image_filepath\n",
        "        self.label_filepath = label_filepath\n",
        "        self.transform = transform\n",
        "\n",
        "    def __len__(self):\n",
        "        return len(self.image_filepath)\n",
        "\n",
        "    def __getitem__(self,index):\n",
        "\n",
        "        image = self.image_filepath[index]\n",
        "        image = Image.open(image) # .convert('RGB')\n",
        "        image = np.asarray(image) # 알버트 이미지 변환을 하기 위한 작업 \n",
        "\n",
        "        if self.transform is not None: # 트랜스폼 처리가 존재하면 \n",
        "            image = self.transform(image=image)['image']\n",
        "\n",
        "        if self.label_filepath is not None: # 해당 데이터에 파일 패스가 존재하면 레이블도 함께 받아오기\n",
        "            label = self.label_filepath[index]\n",
        "            return image, label\n",
        "        else:\n",
        "            return image"
      ]
    },
    {
      "cell_type": "code",
      "execution_count": null,
      "id": "869f2d74-6e0e-46f4-9159-00b2616e3edc",
      "metadata": {
        "id": "869f2d74-6e0e-46f4-9159-00b2616e3edc"
      },
      "outputs": [],
      "source": [
        "transform = A.Compose([A.Resize(300, 300), A.CLAHE(p=0.3),A.Normalize(), \n",
        "                       A.RandomRotate90(), A.HorizontalFlip(p=0.5), \n",
        "                       A.VerticalFlip(p=0.3), ToTensorV2()])\n",
        "# 변환기"
      ]
    },
    {
      "cell_type": "code",
      "execution_count": null,
      "id": "c29722ca-974c-4541-9e7d-7762e2e87a66",
      "metadata": {
        "id": "c29722ca-974c-4541-9e7d-7762e2e87a66"
      },
      "outputs": [],
      "source": [
        "trainset = MyData(train_set['image'].values, train_set['label_encode'].values,transform=transform)\n",
        "validset = MyData(valid_set['image'].values, valid_set['label_encode'].values,transform=transform)"
      ]
    },
    {
      "cell_type": "code",
      "execution_count": null,
      "id": "500d1f46-860a-44bf-ae82-ef770919499a",
      "metadata": {
        "id": "500d1f46-860a-44bf-ae82-ef770919499a",
        "outputId": "9565b6e5-f438-4a51-d32d-6feb1dbbac04"
      },
      "outputs": [
        {
          "data": {
            "text/plain": [
              "(2765, 692)"
            ]
          },
          "execution_count": 14,
          "metadata": {},
          "output_type": "execute_result"
        }
      ],
      "source": [
        "len(trainset), len(validset)"
      ]
    },
    {
      "cell_type": "code",
      "execution_count": null,
      "id": "792da307-a28e-4eea-9069-128b97f05d6a",
      "metadata": {
        "jupyter": {
          "outputs_hidden": true
        },
        "tags": [],
        "id": "792da307-a28e-4eea-9069-128b97f05d6a"
      },
      "outputs": [],
      "source": [
        "trainset[0]"
      ]
    },
    {
      "cell_type": "markdown",
      "id": "5ad7fa8f-1e09-4054-b2fa-915f0cf8dab7",
      "metadata": {
        "jp-MarkdownHeadingCollapsed": true,
        "tags": [],
        "id": "5ad7fa8f-1e09-4054-b2fa-915f0cf8dab7"
      },
      "source": [
        "# 2. 데이터 시각화"
      ]
    },
    {
      "cell_type": "code",
      "execution_count": null,
      "id": "8c8c6c19-2418-40d3-9875-24e549e22d1b",
      "metadata": {
        "id": "8c8c6c19-2418-40d3-9875-24e549e22d1b"
      },
      "outputs": [],
      "source": [
        "# 한국어를 실행을 하지 못함\n",
        "labels_map = {7 :'몰딩수정', 9:'석고수정', 18:'훼손', 17:'피스', 4:'녹오염', 0:'가구수정', 10:'오염', 5:'들뜸' , 2:'곰팡이',\n",
        " 14:'창틀,문틀수정', 12:'울음', 11:'오타공', 8:'반점', 6:'면불량', 15:'터짐', 16:'틈새과다' , 1:'걸레받이수정'\n",
        " ,13:'이음부불량', 3:'꼬임'}"
      ]
    },
    {
      "cell_type": "code",
      "execution_count": null,
      "id": "edf6c8fa-e4b0-45dd-8714-f2932325a549",
      "metadata": {
        "jupyter": {
          "outputs_hidden": true
        },
        "id": "edf6c8fa-e4b0-45dd-8714-f2932325a549"
      },
      "outputs": [],
      "source": [
        "figure, axes = plt.subplots(nrows=4, ncols=8, figsize=(14, 8))\n",
        "axes = axes.flatten()\n",
        "\n",
        "for i in range(32):\n",
        "    rand_i = np.random.randint(0, 32)\n",
        "    result = imageset[rand_i]\n",
        "    image, label = result[0], result[1]\n",
        "    axes[i].axis('off')\n",
        "    axes[i].imshow(image.permute(1,2,0))\n",
        "    axes[i].set_title(labels_map[label])\n",
        "    plt.show"
      ]
    },
    {
      "cell_type": "markdown",
      "id": "6bf219d6-83e1-4702-8a25-3c847480a9bc",
      "metadata": {
        "id": "6bf219d6-83e1-4702-8a25-3c847480a9bc"
      },
      "source": [
        "# 3. 데이터 적재 "
      ]
    },
    {
      "cell_type": "code",
      "execution_count": null,
      "id": "93872fb6-72a5-4356-815d-cf695e7aeec6",
      "metadata": {
        "id": "93872fb6-72a5-4356-815d-cf695e7aeec6"
      },
      "outputs": [],
      "source": [
        "batch_size = 8\n",
        "# dataloader = DataLoader(데이터셋, 배치사이즈, 셔플여부.....)\n",
        "trainloader = DataLoader(trainset, batch_size=batch_size, shuffle=True) # 훈련용 2765개 데이터\n",
        "validloader = DataLoader(validset, batch_size=batch_size, shuffle=False) # 검증용 692개 데이터"
      ]
    },
    {
      "cell_type": "code",
      "execution_count": null,
      "id": "f788a1a4-8327-4a27-8cae-35593bbc61bf",
      "metadata": {
        "id": "f788a1a4-8327-4a27-8cae-35593bbc61bf",
        "outputId": "de2c1952-af9a-4b00-b4df-1774b539eeb8"
      },
      "outputs": [
        {
          "name": "stdout",
          "output_type": "stream",
          "text": [
            "<class 'torch.utils.data.dataloader.DataLoader'> 346\n",
            "<class 'torch.utils.data.dataloader.DataLoader'> 87\n"
          ]
        }
      ],
      "source": [
        "print(type(trainloader),len(trainloader))\n",
        "print(type(validloader), len(validloader))"
      ]
    },
    {
      "cell_type": "code",
      "execution_count": null,
      "id": "1e5d2f22-a775-47ed-bd2a-f1b5a6649cb7",
      "metadata": {
        "id": "1e5d2f22-a775-47ed-bd2a-f1b5a6649cb7",
        "outputId": "c9c8512d-a4a1-4e9c-9aff-f1a499941dec"
      },
      "outputs": [
        {
          "data": {
            "text/plain": [
              "(torch.Size([8, 3, 300, 300]), torch.Size([8]))"
            ]
          },
          "execution_count": 17,
          "metadata": {},
          "output_type": "execute_result"
        }
      ],
      "source": [
        "train_iter = iter(trainloader)\n",
        "images, labels = next(train_iter)\n",
        "images.size(), labels.size()"
      ]
    },
    {
      "cell_type": "code",
      "execution_count": null,
      "id": "122089e2-862a-4865-8b9f-ffaf2732c864",
      "metadata": {
        "id": "122089e2-862a-4865-8b9f-ffaf2732c864",
        "outputId": "61de580a-b8d5-4580-d050-521b879b83d8"
      },
      "outputs": [
        {
          "name": "stderr",
          "output_type": "stream",
          "text": [
            "Clipping input data to the valid range for imshow with RGB data ([0..1] for floats or [0..255] for integers).\n"
          ]
        },
        {
          "data": {
            "text/plain": [
              "<matplotlib.image.AxesImage at 0x7f6c4a8941c0>"
            ]
          },
          "execution_count": 18,
          "metadata": {},
          "output_type": "execute_result"
        },
        {
          "data": {
            "image/png": "[encoded data removed]",
            "text/plain": [
              "<Figure size 640x480 with 1 Axes>"
            ]
          },
          "metadata": {},
          "output_type": "display_data"
        }
      ],
      "source": [
        "grid_img = torchvision.utils.make_grid(images)\n",
        "plt.imshow(grid_img.permute(1, 2, 0))"
      ]
    },
    {
      "cell_type": "markdown",
      "id": "e3004ec2-43b1-4c6f-8dfc-edfc8eaf2b11",
      "metadata": {
        "id": "e3004ec2-43b1-4c6f-8dfc-edfc8eaf2b11"
      },
      "source": [
        "# 4. 모델 생성"
      ]
    },
    {
      "cell_type": "code",
      "execution_count": null,
      "id": "68825f6a-a63d-44f4-8b6a-f5674c15598d",
      "metadata": {
        "id": "68825f6a-a63d-44f4-8b6a-f5674c15598d"
      },
      "outputs": [],
      "source": [
        "import torch.nn as nn # 파이토치에서 제공하는 다양한 계층 (Linear Layer, ....)\n",
        "import torch.optim as optim # 옵티마이저 (경사하강법...)\n",
        "import torch.nn.functional as F # 파이토치에서 제공하는 함수(활성화 함수...)"
      ]
    },
    {
      "cell_type": "code",
      "execution_count": null,
      "id": "63931f7e-05c2-41ac-82e8-d6dd1d1f7271",
      "metadata": {
        "jupyter": {
          "outputs_hidden": true
        },
        "tags": [],
        "id": "63931f7e-05c2-41ac-82e8-d6dd1d1f7271"
      },
      "outputs": [],
      "source": [
        "from efficientnet_pytorch import EfficientNet\n",
        "\n",
        "model = EfficientNet.from_pretrained('efficientnet-b4', num_classes=19)\n",
        "model.to(device)"
      ]
    },
    {
      "cell_type": "markdown",
      "id": "ffe384ca-deb9-4e9b-a230-6f030cd52804",
      "metadata": {
        "tags": [],
        "id": "ffe384ca-deb9-4e9b-a230-6f030cd52804"
      },
      "source": [
        "# 5. 모델 컴파일"
      ]
    },
    {
      "cell_type": "markdown",
      "id": "461d9e0b-4b20-4687-ba5a-727d2502ba23",
      "metadata": {
        "id": "461d9e0b-4b20-4687-ba5a-727d2502ba23"
      },
      "source": [
        "```\n",
        "batchsize = 8\n",
        "model = EfficientNet.from_pretrained('efficientnet-b4', num_classes=19)\n",
        "model.to(device)\n",
        "learning_rate = 0.001\n",
        "loss_fn = nn.CrossEntropyLoss()\n",
        "optimizer = optim.Adam(model.parameters(), lr=learning_rate)\n",
        "scheduler = optim.lr_scheduler.ReduceLROnPlateau(optimizer, mode='min', factor=0.1, patience=4, verbose=True)\n",
        "```"
      ]
    },
    {
      "cell_type": "code",
      "execution_count": null,
      "id": "60051fcd-17e6-4649-b431-ac3e5a21b20e",
      "metadata": {
        "id": "60051fcd-17e6-4649-b431-ac3e5a21b20e"
      },
      "outputs": [],
      "source": [
        "batchsize = 8\n",
        "learning_rate = 0.001\n",
        "loss_fn = nn.CrossEntropyLoss()\n",
        "optimizer = optim.Adam(model.parameters(), lr=learning_rate)\n",
        "scheduler = optim.lr_scheduler.ReduceLROnPlateau(optimizer, mode='min', factor=0.1, patience=3, verbose=True)"
      ]
    },
    {
      "cell_type": "code",
      "execution_count": null,
      "id": "a2e89bab-148f-4ccd-ad7d-aa5d7edb4768",
      "metadata": {
        "id": "a2e89bab-148f-4ccd-ad7d-aa5d7edb4768",
        "outputId": "70cb9eee-befb-4962-f61c-c49bbbbd0ccc"
      },
      "outputs": [
        {
          "data": {
            "text/plain": [
              "torch.Size([8, 19])"
            ]
          },
          "execution_count": 20,
          "metadata": {},
          "output_type": "execute_result"
        }
      ],
      "source": [
        "out = model(images.to(device))\n",
        "out.shape"
      ]
    },
    {
      "cell_type": "code",
      "execution_count": null,
      "id": "34376cc1-7544-4b69-aef8-034e04fa0bb9",
      "metadata": {
        "jupyter": {
          "outputs_hidden": true
        },
        "tags": [],
        "id": "34376cc1-7544-4b69-aef8-034e04fa0bb9"
      },
      "outputs": [],
      "source": [
        "for parameter in model.parameters():\n",
        "    print(parameter.requires_grad) # 수정 전"
      ]
    },
    {
      "cell_type": "code",
      "execution_count": null,
      "id": "62fa9483-d3ff-435f-9edd-d89ed9e1cff8",
      "metadata": {
        "id": "62fa9483-d3ff-435f-9edd-d89ed9e1cff8"
      },
      "outputs": [],
      "source": [
        "# Freeze all the layers in the model\n",
        "for name, param in model.named_parameters():\n",
        "    param.requires_grad = False\n",
        "\n",
        "# Unfreeze the final few layers for fine-tuning\n",
        "for name, param in model.named_parameters():\n",
        "    if '_fc' in name or '_conv_head' in name:\n",
        "        param.requires_grad = True"
      ]
    },
    {
      "cell_type": "code",
      "execution_count": null,
      "id": "ab13663a-21cc-40a0-9569-d8bf0487069e",
      "metadata": {
        "jupyter": {
          "outputs_hidden": true
        },
        "tags": [],
        "id": "ab13663a-21cc-40a0-9569-d8bf0487069e"
      },
      "outputs": [],
      "source": [
        "for parameter in model.parameters():\n",
        "    print(parameter.requires_grad) # 수정 후"
      ]
    },
    {
      "cell_type": "code",
      "execution_count": null,
      "id": "e0d3002f-d9d9-49e9-9265-627db64b5108",
      "metadata": {
        "id": "e0d3002f-d9d9-49e9-9265-627db64b5108",
        "outputId": "acd0157d-d52d-4bf0-fd92-6c5b6ae2a389"
      },
      "outputs": [
        {
          "name": "stdout",
          "output_type": "stream",
          "text": [
            "Number of trainable parameters: 17582683\n",
            "Number of frozen parameters: 0\n"
          ]
        }
      ],
      "source": [
        "# Print the number of trainable and frozen parameters\n",
        "num_trainable_params = sum(p.numel() for p in model.parameters() if p.requires_grad)\n",
        "num_frozen_params = sum(p.numel() for p in model.parameters() if not p.requires_grad)\n",
        "print(f'Number of trainable parameters: {num_trainable_params}')\n",
        "print(f'Number of frozen parameters: {num_frozen_params}')"
      ]
    },
    {
      "cell_type": "markdown",
      "id": "6cdd25c3-a93a-457d-b2ad-3041c3c078fc",
      "metadata": {
        "tags": [],
        "id": "6cdd25c3-a93a-457d-b2ad-3041c3c078fc"
      },
      "source": [
        "# 6. 모델 훈련 "
      ]
    },
    {
      "cell_type": "code",
      "execution_count": null,
      "id": "1f0fab20-4253-4f9a-b358-7dc422f5025a",
      "metadata": {
        "id": "1f0fab20-4253-4f9a-b358-7dc422f5025a"
      },
      "outputs": [],
      "source": [
        "from collections import Counter\n",
        "\n",
        "class_counts = Counter(all_labels)\n",
        "\n",
        "total_samples = len(trainset)\n",
        "num_classes = 19\n",
        "class_weights = []\n",
        "for i in range(num_classes):\n",
        "    class_samples = class_counts[i]\n",
        "    weight = total_samples / (num_classes * class_samples)\n",
        "    class_weights.append(weight)"
      ]
    },
    {
      "cell_type": "code",
      "execution_count": null,
      "id": "221c9a19-bae1-4adb-973d-0dcb17f6fe29",
      "metadata": {
        "jupyter": {
          "outputs_hidden": true
        },
        "id": "221c9a19-bae1-4adb-973d-0dcb17f6fe29"
      },
      "outputs": [],
      "source": [
        "class_weights"
      ]
    },
    {
      "cell_type": "code",
      "execution_count": null,
      "id": "a3385617-b192-40e5-986f-586671436cb2",
      "metadata": {
        "id": "a3385617-b192-40e5-986f-586671436cb2"
      },
      "outputs": [],
      "source": [
        "from sklearn.metrics import f1_score\n",
        "\n",
        "def validate(model, validloader, loss_fn):\n",
        "    total = 0   \n",
        "    valid_loss = 0\n",
        "    preds = []\n",
        "    true_labels = []\n",
        "\n",
        "    # 전방향 예측을 구할 때는 gradient가 필요가 없음음\n",
        "    with torch.no_grad():\n",
        "        for images, labels in validloader: # 이터레이터로부터 next()가 호출되며 미니배치를 반환(images, labels)      \n",
        "            # images, labels : (torch.Size([16, 3, 224, 224]), torch.Size([16]))\n",
        "            # 0. Data를 GPU로 보내기\n",
        "            images, labels = images.to(device), labels.to(device)\n",
        "\n",
        "            # 1. 입력 데이터 준비\n",
        "            # not Flatten !!\n",
        "            # images.resize_(images.size()[0], 784)\n",
        "\n",
        "            # 2. 전방향(Forward) 예측\n",
        "            pred = model(images) # 예측 점수\n",
        "            # _, preds = torch.max(logit, 1) # 배치에 대한 최종 예측\n",
        "            # preds = logit.max(dim=1)[1] \n",
        "            \n",
        "            loss = loss_fn(pred, labels)\n",
        "\n",
        "            preds += pred.argmax(1).detach().cpu().numpy().tolist()\n",
        "            true_labels += labels.detach().cpu().numpy().tolist()\n",
        "\n",
        "            \n",
        "            valid_loss += loss.item() # tensor에서 값을 꺼내와서, 배치의 loss 평균값을 valid_loss에 누적\n",
        "\n",
        "        weighted_f1_score = f1_score(true_labels, preds, average='weighted')\n",
        "      \n",
        "    return valid_loss, weighted_f1_score"
      ]
    },
    {
      "cell_type": "code",
      "execution_count": null,
      "id": "24c3462f-bba1-4b12-a03a-47c2b4963662",
      "metadata": {
        "id": "24c3462f-bba1-4b12-a03a-47c2b4963662"
      },
      "outputs": [],
      "source": [
        "def train_loop(model, trainloader, loss_fn, epochs, optimizer):\n",
        "    steps = 0\n",
        "    steps_per_epoch = len(trainloader)\n",
        "    min_loss = 1000000\n",
        "    max_f1_score = 0\n",
        "    trigger = 0\n",
        "    patience = 7\n",
        "\n",
        "    for epoch in range(epochs):\n",
        "        model.train() # training mode\n",
        "        train_loss = 0\n",
        "        for images, labels in trainloader:\n",
        "            steps += 1\n",
        "            images, labels = images.to(device), labels.to(device)\n",
        "\n",
        "            predict = model(images)\n",
        "            loss = loss_fn(predict, labels)\n",
        "\n",
        "            optimizer.zero_grad()\n",
        "            loss.backward()\n",
        "            optimizer.step()\n",
        "\n",
        "            train_loss += loss.item()\n",
        "            \n",
        "            if (steps % steps_per_epoch) == 0:\n",
        "                model.eval() # evaluation mode\n",
        "                valid_loss, weighted_f1_score = validate(model, validloader, loss_fn)\n",
        "                \n",
        "                print('Epoch : {}/{}.......'.format(epoch+1, epochs),            \n",
        "                      'Train Loss : {:.3f}'.format(train_loss/len(trainloader)),\n",
        "                      'Valid Loss : {:.3f}'.format(valid_loss/len(validloader)), \n",
        "                      'Weighted F1 Score : {:.3f}'.format(weighted_f1_score)            \n",
        "                      )\n",
        "\n",
        "                # Best model saving    \n",
        "                if weighted_f1_score > max_f1_score:\n",
        "                    max_f1_score = weighted_f1_score\n",
        "                    best_model_state = deepcopy(model.state_dict())\n",
        "                    torch.save(best_model_state, 'best_checkpoint.pth')\n",
        "\n",
        "                # Early Stopping\n",
        "                if valid_loss > min_loss: # valid_loss가 min_loss를 갱신하지 못하면\n",
        "                    trigger += 1\n",
        "                    print('trigger : ', trigger)\n",
        "                    if trigger > patience:\n",
        "                        print('Early Stopping !!!')\n",
        "                        print('Training loop is finished !!') \n",
        "                        return\n",
        "                else:\n",
        "                    trigger = 0\n",
        "                    min_loss = valid_loss\n",
        "\n",
        "                # Learning Rate Scheduler\n",
        "                scheduler.step(loss)\n",
        "\n",
        "    return"
      ]
    },
    {
      "cell_type": "code",
      "execution_count": null,
      "id": "578fe3cb-0810-4f47-b485-405def86f6bc",
      "metadata": {
        "jupyter": {
          "outputs_hidden": true
        },
        "tags": [],
        "id": "578fe3cb-0810-4f47-b485-405def86f6bc",
        "outputId": "8d290315-b1cc-46b4-bf5e-cceb260856e3"
      },
      "outputs": [
        {
          "name": "stdout",
          "output_type": "stream",
          "text": [
            "Epoch : 1/100....... Train Loss : 1.563 Valid Loss : 2.504 Weighted F1 Score : 0.513\n",
            "Epoch : 2/100....... Train Loss : 1.253 Valid Loss : 1.357 Weighted F1 Score : 0.604\n",
            "Epoch : 3/100....... Train Loss : 1.079 Valid Loss : 1.174 Weighted F1 Score : 0.690\n",
            "Epoch : 4/100....... Train Loss : 0.993 Valid Loss : 1.349 Weighted F1 Score : 0.651\n",
            "trigger :  1\n",
            "Epoch : 5/100....... Train Loss : 0.900 Valid Loss : 1.005 Weighted F1 Score : 0.681\n",
            "Epoch : 6/100....... Train Loss : 0.830 Valid Loss : 1.043 Weighted F1 Score : 0.717\n",
            "trigger :  1\n",
            "Epoch : 7/100....... Train Loss : 0.760 Valid Loss : 0.851 Weighted F1 Score : 0.740\n",
            "Epoch 00007: reducing learning rate of group 0 to 1.0000e-04.\n",
            "Epoch : 8/100....... Train Loss : 0.555 Valid Loss : 0.673 Weighted F1 Score : 0.813\n",
            "Epoch : 9/100....... Train Loss : 0.475 Valid Loss : 0.618 Weighted F1 Score : 0.827\n",
            "Epoch : 10/100....... Train Loss : 0.401 Valid Loss : 0.636 Weighted F1 Score : 0.833\n",
            "trigger :  1\n",
            "Epoch : 11/100....... Train Loss : 0.391 Valid Loss : 0.654 Weighted F1 Score : 0.817\n",
            "trigger :  2\n",
            "Epoch 00011: reducing learning rate of group 0 to 1.0000e-05.\n",
            "Epoch : 12/100....... Train Loss : 0.332 Valid Loss : 0.643 Weighted F1 Score : 0.824\n",
            "trigger :  3\n",
            "Epoch : 13/100....... Train Loss : 0.359 Valid Loss : 0.627 Weighted F1 Score : 0.821\n",
            "trigger :  4\n",
            "Epoch : 14/100....... Train Loss : 0.336 Valid Loss : 0.649 Weighted F1 Score : 0.831\n",
            "trigger :  5\n",
            "Epoch : 15/100....... Train Loss : 0.324 Valid Loss : 0.655 Weighted F1 Score : 0.822\n",
            "trigger :  6\n",
            "Epoch : 16/100....... Train Loss : 0.316 Valid Loss : 0.654 Weighted F1 Score : 0.819\n",
            "trigger :  7\n",
            "Epoch : 17/100....... Train Loss : 0.309 Valid Loss : 0.615 Weighted F1 Score : 0.834\n",
            "Epoch : 18/100....... Train Loss : 0.303 Valid Loss : 0.622 Weighted F1 Score : 0.828\n",
            "trigger :  1\n",
            "Epoch 00018: reducing learning rate of group 0 to 1.0000e-06.\n",
            "Epoch : 19/100....... Train Loss : 0.306 Valid Loss : 0.600 Weighted F1 Score : 0.842\n",
            "Epoch : 20/100....... Train Loss : 0.319 Valid Loss : 0.640 Weighted F1 Score : 0.813\n",
            "trigger :  1\n",
            "Epoch : 21/100....... Train Loss : 0.303 Valid Loss : 0.589 Weighted F1 Score : 0.851\n",
            "Epoch : 22/100....... Train Loss : 0.328 Valid Loss : 0.642 Weighted F1 Score : 0.830\n",
            "trigger :  1\n",
            "Epoch 00022: reducing learning rate of group 0 to 1.0000e-07.\n",
            "Epoch : 23/100....... Train Loss : 0.311 Valid Loss : 0.639 Weighted F1 Score : 0.821\n",
            "trigger :  2\n",
            "Epoch : 24/100....... Train Loss : 0.314 Valid Loss : 0.616 Weighted F1 Score : 0.837\n",
            "trigger :  3\n",
            "Epoch : 25/100....... Train Loss : 0.293 Valid Loss : 0.616 Weighted F1 Score : 0.826\n",
            "trigger :  4\n",
            "Epoch : 26/100....... Train Loss : 0.306 Valid Loss : 0.622 Weighted F1 Score : 0.844\n",
            "trigger :  5\n",
            "Epoch 00026: reducing learning rate of group 0 to 1.0000e-08.\n",
            "Epoch : 27/100....... Train Loss : 0.302 Valid Loss : 0.655 Weighted F1 Score : 0.815\n",
            "trigger :  6\n",
            "Epoch : 28/100....... Train Loss : 0.304 Valid Loss : 0.617 Weighted F1 Score : 0.824\n",
            "trigger :  7\n",
            "Epoch : 29/100....... Train Loss : 0.311 Valid Loss : 0.598 Weighted F1 Score : 0.846\n",
            "trigger :  8\n",
            "Early Stopping !!!\n",
            "Training loop is finished !!\n",
            "CPU times: user 1h 19min 1s, sys: 24min 19s, total: 1h 43min 20s\n",
            "Wall time: 1h 37min 41s\n"
          ]
        }
      ],
      "source": [
        "epochs = 100\n",
        "%time train_loop(model, trainloader, loss_fn, epochs, optimizer)"
      ]
    },
    {
      "cell_type": "markdown",
      "id": "cca18472-6ca7-4c9b-b3ea-95a18798dd99",
      "metadata": {
        "id": "cca18472-6ca7-4c9b-b3ea-95a18798dd99"
      },
      "source": [
        "# 7. 모델 예측"
      ]
    },
    {
      "cell_type": "code",
      "execution_count": null,
      "id": "df01b2ba-20b8-431b-8812-00b792bdb594",
      "metadata": {
        "id": "df01b2ba-20b8-431b-8812-00b792bdb594"
      },
      "outputs": [],
      "source": []
    },
    {
      "cell_type": "code",
      "execution_count": null,
      "id": "6bb68516-08e0-41e3-a3e7-7c1a21b30595",
      "metadata": {
        "jupyter": {
          "outputs_hidden": true
        },
        "tags": [],
        "id": "6bb68516-08e0-41e3-a3e7-7c1a21b30595"
      },
      "outputs": [],
      "source": [
        "test_set = glob.glob('./dobae/open/test/*.png')\n",
        "test_set.sort()\n",
        "test_set"
      ]
    },
    {
      "cell_type": "code",
      "execution_count": null,
      "id": "cab43d5a-7b62-4aa0-a23b-e6d5c657b5f8",
      "metadata": {
        "tags": [],
        "id": "cab43d5a-7b62-4aa0-a23b-e6d5c657b5f8"
      },
      "outputs": [],
      "source": [
        "testset = MyData(test_set, label_filepath= None,transform=transform)"
      ]
    },
    {
      "cell_type": "code",
      "execution_count": null,
      "id": "2a7f3c90-bd0a-4f85-9598-bf8022fef0f9",
      "metadata": {
        "id": "2a7f3c90-bd0a-4f85-9598-bf8022fef0f9",
        "outputId": "9cf6a606-7a3d-499f-d3d9-652b6e6e24e4"
      },
      "outputs": [
        {
          "data": {
            "text/plain": [
              "792"
            ]
          },
          "execution_count": 23,
          "metadata": {},
          "output_type": "execute_result"
        }
      ],
      "source": [
        "len(testset)"
      ]
    },
    {
      "cell_type": "code",
      "execution_count": null,
      "id": "bf9545a6-18c4-42a5-8f76-535a7147c35b",
      "metadata": {
        "collapsed": true,
        "jupyter": {
          "outputs_hidden": true
        },
        "tags": [],
        "id": "bf9545a6-18c4-42a5-8f76-535a7147c35b"
      },
      "outputs": [],
      "source": [
        "testloader = DataLoader(testset,batch_size=8, shuffle=False)\n",
        "\n",
        "test_iter = iter(testloader)\n",
        "images = next(test_iter)"
      ]
    },
    {
      "cell_type": "code",
      "execution_count": null,
      "id": "ac2804e5-a51e-4468-ae30-73bda123827b",
      "metadata": {
        "id": "ac2804e5-a51e-4468-ae30-73bda123827b",
        "outputId": "6813d845-5c10-4535-aee7-fcec420cb298"
      },
      "outputs": [
        {
          "data": {
            "text/plain": [
              "'./dobae/open/test/000.png'"
            ]
          },
          "execution_count": 30,
          "metadata": {},
          "output_type": "execute_result"
        }
      ],
      "source": [
        "test_set[0]"
      ]
    },
    {
      "cell_type": "code",
      "execution_count": null,
      "id": "59c9fbb8-1547-4f14-8d78-8432fe58e704",
      "metadata": {
        "id": "59c9fbb8-1547-4f14-8d78-8432fe58e704"
      },
      "outputs": [],
      "source": [
        "def inference(model, test_loader, device):\n",
        "    model.eval()\n",
        "    preds = []\n",
        "    with torch.no_grad():\n",
        "        for images in testloader:\n",
        "            imgs = images.float().to(device)\n",
        "            \n",
        "            pred = model(imgs)\n",
        "            \n",
        "            preds += pred.argmax(1).detach().cpu().numpy().tolist()\n",
        "    \n",
        "    \n",
        "    return preds\n",
        "preds = inference(model, testloader, device)"
      ]
    },
    {
      "cell_type": "code",
      "execution_count": null,
      "id": "6219ca7c-ec66-46c1-9f3a-10e77b8d51b0",
      "metadata": {
        "id": "6219ca7c-ec66-46c1-9f3a-10e77b8d51b0",
        "outputId": "5640c493-9d4b-40f8-efdc-c1a94ef548c7"
      },
      "outputs": [
        {
          "data": {
            "text/plain": [
              "792"
            ]
          },
          "execution_count": 32,
          "metadata": {},
          "output_type": "execute_result"
        }
      ],
      "source": [
        "len(preds)"
      ]
    },
    {
      "cell_type": "code",
      "execution_count": null,
      "id": "140e2293-5b04-493c-946b-72299e5c97b7",
      "metadata": {
        "id": "140e2293-5b04-493c-946b-72299e5c97b7"
      },
      "outputs": [],
      "source": [
        "submit = pd.read_csv('dobae/open/sample_submission.csv')"
      ]
    },
    {
      "cell_type": "code",
      "execution_count": null,
      "id": "e00bde84-ff29-47ea-8b12-a5e8cdb0fafc",
      "metadata": {
        "id": "e00bde84-ff29-47ea-8b12-a5e8cdb0fafc",
        "outputId": "89b862ce-5085-4608-f6ee-d2a75ca5987a"
      },
      "outputs": [
        {
          "data": {
            "text/html": [
              "<div>\n",
              "<style scoped>\n",
              "    .dataframe tbody tr th:only-of-type {\n",
              "        vertical-align: middle;\n",
              "    }\n",
              "\n",
              "    .dataframe tbody tr th {\n",
              "        vertical-align: top;\n",
              "    }\n",
              "\n",
              "    .dataframe thead th {\n",
              "        text-align: right;\n",
              "    }\n",
              "</style>\n",
              "<table border=\"1\" class=\"dataframe\">\n",
              "  <thead>\n",
              "    <tr style=\"text-align: right;\">\n",
              "      <th></th>\n",
              "      <th>id</th>\n",
              "      <th>label</th>\n",
              "    </tr>\n",
              "  </thead>\n",
              "  <tbody>\n",
              "    <tr>\n",
              "      <th>0</th>\n",
              "      <td>TEST_000</td>\n",
              "      <td>18</td>\n",
              "    </tr>\n",
              "    <tr>\n",
              "      <th>1</th>\n",
              "      <td>TEST_001</td>\n",
              "      <td>10</td>\n",
              "    </tr>\n",
              "    <tr>\n",
              "      <th>2</th>\n",
              "      <td>TEST_002</td>\n",
              "      <td>18</td>\n",
              "    </tr>\n",
              "  </tbody>\n",
              "</table>\n",
              "</div>"
            ],
            "text/plain": [
              "         id  label\n",
              "0  TEST_000     18\n",
              "1  TEST_001     10\n",
              "2  TEST_002     18"
            ]
          },
          "execution_count": 29,
          "metadata": {},
          "output_type": "execute_result"
        }
      ],
      "source": [
        "submit['label'] = preds\n",
        "submit.head(3)"
      ]
    },
    {
      "cell_type": "code",
      "execution_count": null,
      "id": "dadfc008-9209-43ad-b10f-9db0429e772a",
      "metadata": {
        "id": "dadfc008-9209-43ad-b10f-9db0429e772a"
      },
      "outputs": [],
      "source": [
        "submit.loc[submit['label'] == 0, 'label'] = '가구수정'\n",
        "submit.loc[submit['label'] == 1, 'label'] = '걸레받이수정'\n",
        "submit.loc[submit['label'] == 2, 'label'] = '곰팡이'\n",
        "submit.loc[submit['label'] == 3, 'label'] = '꼬임'\n",
        "submit.loc[submit['label'] == 4, 'label'] = '녹오염'\n",
        "submit.loc[submit['label'] == 5, 'label'] = '들뜸'\n",
        "submit.loc[submit['label'] == 6, 'label'] = '면불량'\n",
        "submit.loc[submit['label'] == 7, 'label'] = '몰딩수정'\n",
        "submit.loc[submit['label'] == 8, 'label'] = '반점'\n",
        "submit.loc[submit['label'] == 9, 'label'] = '석고수정'\n",
        "submit.loc[submit['label'] == 10, 'label'] = '오염'\n",
        "submit.loc[submit['label'] == 11, 'label'] = '오타공'\n",
        "submit.loc[submit['label'] == 12, 'label'] = '울음'\n",
        "submit.loc[submit['label'] == 13, 'label'] = '이음부불량'\n",
        "submit.loc[submit['label'] == 14, 'label'] = '창틀,문틀수정'\n",
        "submit.loc[submit['label'] == 15, 'label'] = '터짐'\n",
        "submit.loc[submit['label'] == 16, 'label'] = '틈새과다'\n",
        "submit.loc[submit['label'] == 17, 'label'] = '피스'\n",
        "submit.loc[submit['label'] == 18, 'label'] = '훼손'"
      ]
    },
    {
      "cell_type": "code",
      "execution_count": null,
      "id": "7f95ad15-e2a4-442d-a40c-089fb3ae6c72",
      "metadata": {
        "jupyter": {
          "outputs_hidden": true
        },
        "tags": [],
        "id": "7f95ad15-e2a4-442d-a40c-089fb3ae6c72",
        "outputId": "58c5c126-2b55-421d-d75c-ff9b1699d9a5"
      },
      "outputs": [
        {
          "data": {
            "text/html": [
              "<div>\n",
              "<style scoped>\n",
              "    .dataframe tbody tr th:only-of-type {\n",
              "        vertical-align: middle;\n",
              "    }\n",
              "\n",
              "    .dataframe tbody tr th {\n",
              "        vertical-align: top;\n",
              "    }\n",
              "\n",
              "    .dataframe thead th {\n",
              "        text-align: right;\n",
              "    }\n",
              "</style>\n",
              "<table border=\"1\" class=\"dataframe\">\n",
              "  <thead>\n",
              "    <tr style=\"text-align: right;\">\n",
              "      <th></th>\n",
              "      <th>id</th>\n",
              "      <th>label</th>\n",
              "    </tr>\n",
              "  </thead>\n",
              "  <tbody>\n",
              "    <tr>\n",
              "      <th>0</th>\n",
              "      <td>TEST_000</td>\n",
              "      <td>훼손</td>\n",
              "    </tr>\n",
              "    <tr>\n",
              "      <th>1</th>\n",
              "      <td>TEST_001</td>\n",
              "      <td>오염</td>\n",
              "    </tr>\n",
              "    <tr>\n",
              "      <th>2</th>\n",
              "      <td>TEST_002</td>\n",
              "      <td>훼손</td>\n",
              "    </tr>\n",
              "    <tr>\n",
              "      <th>3</th>\n",
              "      <td>TEST_003</td>\n",
              "      <td>훼손</td>\n",
              "    </tr>\n",
              "    <tr>\n",
              "      <th>4</th>\n",
              "      <td>TEST_004</td>\n",
              "      <td>오염</td>\n",
              "    </tr>\n",
              "    <tr>\n",
              "      <th>...</th>\n",
              "      <td>...</td>\n",
              "      <td>...</td>\n",
              "    </tr>\n",
              "    <tr>\n",
              "      <th>787</th>\n",
              "      <td>TEST_787</td>\n",
              "      <td>훼손</td>\n",
              "    </tr>\n",
              "    <tr>\n",
              "      <th>788</th>\n",
              "      <td>TEST_788</td>\n",
              "      <td>오염</td>\n",
              "    </tr>\n",
              "    <tr>\n",
              "      <th>789</th>\n",
              "      <td>TEST_789</td>\n",
              "      <td>오염</td>\n",
              "    </tr>\n",
              "    <tr>\n",
              "      <th>790</th>\n",
              "      <td>TEST_790</td>\n",
              "      <td>오염</td>\n",
              "    </tr>\n",
              "    <tr>\n",
              "      <th>791</th>\n",
              "      <td>TEST_791</td>\n",
              "      <td>창틀,문틀수정</td>\n",
              "    </tr>\n",
              "  </tbody>\n",
              "</table>\n",
              "<p>792 rows × 2 columns</p>\n",
              "</div>"
            ],
            "text/plain": [
              "           id    label\n",
              "0    TEST_000       훼손\n",
              "1    TEST_001       오염\n",
              "2    TEST_002       훼손\n",
              "3    TEST_003       훼손\n",
              "4    TEST_004       오염\n",
              "..        ...      ...\n",
              "787  TEST_787       훼손\n",
              "788  TEST_788       오염\n",
              "789  TEST_789       오염\n",
              "790  TEST_790       오염\n",
              "791  TEST_791  창틀,문틀수정\n",
              "\n",
              "[792 rows x 2 columns]"
            ]
          },
          "execution_count": 31,
          "metadata": {},
          "output_type": "execute_result"
        }
      ],
      "source": [
        "submit"
      ]
    },
    {
      "cell_type": "code",
      "execution_count": null,
      "id": "92b91a8a-d127-41ed-865f-a57339c57c4d",
      "metadata": {
        "id": "92b91a8a-d127-41ed-865f-a57339c57c4d"
      },
      "outputs": [],
      "source": [
        "submit.to_csv('./4_19_오후_EFB4_resize300_common.csv', index=False)"
      ]
    },
    {
      "cell_type": "code",
      "execution_count": null,
      "id": "c3760228-daee-46fc-af66-05d2547f7322",
      "metadata": {
        "id": "c3760228-daee-46fc-af66-05d2547f7322"
      },
      "outputs": [],
      "source": [
        "# 결과\n",
        "Epoch : 40/100....... Train Loss : 0.517 Valid Loss : 1.015 Valid Accuracy : 0.711\n",
        "점수 : 0.421343637"
      ]
    },
    {
      "cell_type": "markdown",
      "id": "4a935ef5-2b38-4b82-ac1f-d3bdcca488b7",
      "metadata": {
        "id": "4a935ef5-2b38-4b82-ac1f-d3bdcca488b7"
      },
      "source": [
        "# 8. 모델평가 및 모델 베스트 & 라스트 체크포인트 분석"
      ]
    },
    {
      "cell_type": "code",
      "execution_count": null,
      "id": "ac23645e-cb43-4367-b287-8a01fc3e3eec",
      "metadata": {
        "jupyter": {
          "outputs_hidden": true
        },
        "tags": [],
        "id": "ac23645e-cb43-4367-b287-8a01fc3e3eec"
      },
      "outputs": [],
      "source": [
        "model.state_dict().keys()"
      ]
    },
    {
      "cell_type": "markdown",
      "id": "7efe21be-582c-4d57-b82a-67b78e8c7189",
      "metadata": {
        "tags": [],
        "id": "7efe21be-582c-4d57-b82a-67b78e8c7189"
      },
      "source": [
        "## 라스트 모델"
      ]
    },
    {
      "cell_type": "code",
      "execution_count": null,
      "id": "f46bd761-811f-424d-9e6c-87cf5ada73ac",
      "metadata": {
        "id": "f46bd761-811f-424d-9e6c-87cf5ada73ac"
      },
      "outputs": [],
      "source": [
        "torch.save(model.state_dict(), 'last_checkpoint.pth')"
      ]
    },
    {
      "cell_type": "code",
      "execution_count": null,
      "id": "66ce8be8-b927-4160-8d07-5965e134c16f",
      "metadata": {
        "id": "66ce8be8-b927-4160-8d07-5965e134c16f"
      },
      "outputs": [],
      "source": [
        "last_state_dict = torch.load('last_checkpoint.pth')"
      ]
    },
    {
      "cell_type": "code",
      "execution_count": null,
      "id": "f68ae63f-3dec-4e17-9eed-590f9739334b",
      "metadata": {
        "id": "f68ae63f-3dec-4e17-9eed-590f9739334b",
        "outputId": "0e6c3401-f772-4c11-fa5b-4b1b27163fde"
      },
      "outputs": [
        {
          "data": {
            "text/plain": [
              "<All keys matched successfully>"
            ]
          },
          "execution_count": 36,
          "metadata": {},
          "output_type": "execute_result"
        }
      ],
      "source": [
        "last_model = model\n",
        "last_model.to(device)\n",
        "last_model.load_state_dict(last_state_dict)"
      ]
    },
    {
      "cell_type": "code",
      "execution_count": null,
      "id": "b06be465-9036-40f5-9461-b72e42ef26cd",
      "metadata": {
        "id": "b06be465-9036-40f5-9461-b72e42ef26cd"
      },
      "outputs": [],
      "source": [
        "last_model.eval()\n",
        "last_preds = inference(last_model, testloader, device)"
      ]
    },
    {
      "cell_type": "code",
      "execution_count": null,
      "id": "4d05f582-a932-418d-b869-a2ec5ada7db7",
      "metadata": {
        "id": "4d05f582-a932-418d-b869-a2ec5ada7db7",
        "outputId": "5a172b8d-8376-457a-95ea-3ca2a3a89f4c"
      },
      "outputs": [
        {
          "data": {
            "text/plain": [
              "792"
            ]
          },
          "execution_count": 38,
          "metadata": {},
          "output_type": "execute_result"
        }
      ],
      "source": [
        "len(last_preds)"
      ]
    },
    {
      "cell_type": "code",
      "execution_count": null,
      "id": "b126c87d-fc84-4a58-8195-a54f9be46df1",
      "metadata": {
        "jupyter": {
          "outputs_hidden": true
        },
        "tags": [],
        "id": "b126c87d-fc84-4a58-8195-a54f9be46df1",
        "outputId": "e8d764b7-0c42-40ed-cba7-25955253676d"
      },
      "outputs": [
        {
          "data": {
            "text/html": [
              "<div>\n",
              "<style scoped>\n",
              "    .dataframe tbody tr th:only-of-type {\n",
              "        vertical-align: middle;\n",
              "    }\n",
              "\n",
              "    .dataframe tbody tr th {\n",
              "        vertical-align: top;\n",
              "    }\n",
              "\n",
              "    .dataframe thead th {\n",
              "        text-align: right;\n",
              "    }\n",
              "</style>\n",
              "<table border=\"1\" class=\"dataframe\">\n",
              "  <thead>\n",
              "    <tr style=\"text-align: right;\">\n",
              "      <th></th>\n",
              "      <th>id</th>\n",
              "      <th>label</th>\n",
              "    </tr>\n",
              "  </thead>\n",
              "  <tbody>\n",
              "    <tr>\n",
              "      <th>0</th>\n",
              "      <td>TEST_000</td>\n",
              "      <td>훼손</td>\n",
              "    </tr>\n",
              "    <tr>\n",
              "      <th>1</th>\n",
              "      <td>TEST_001</td>\n",
              "      <td>훼손</td>\n",
              "    </tr>\n",
              "    <tr>\n",
              "      <th>2</th>\n",
              "      <td>TEST_002</td>\n",
              "      <td>훼손</td>\n",
              "    </tr>\n",
              "    <tr>\n",
              "      <th>3</th>\n",
              "      <td>TEST_003</td>\n",
              "      <td>훼손</td>\n",
              "    </tr>\n",
              "    <tr>\n",
              "      <th>4</th>\n",
              "      <td>TEST_004</td>\n",
              "      <td>훼손</td>\n",
              "    </tr>\n",
              "    <tr>\n",
              "      <th>...</th>\n",
              "      <td>...</td>\n",
              "      <td>...</td>\n",
              "    </tr>\n",
              "    <tr>\n",
              "      <th>787</th>\n",
              "      <td>TEST_787</td>\n",
              "      <td>훼손</td>\n",
              "    </tr>\n",
              "    <tr>\n",
              "      <th>788</th>\n",
              "      <td>TEST_788</td>\n",
              "      <td>훼손</td>\n",
              "    </tr>\n",
              "    <tr>\n",
              "      <th>789</th>\n",
              "      <td>TEST_789</td>\n",
              "      <td>훼손</td>\n",
              "    </tr>\n",
              "    <tr>\n",
              "      <th>790</th>\n",
              "      <td>TEST_790</td>\n",
              "      <td>훼손</td>\n",
              "    </tr>\n",
              "    <tr>\n",
              "      <th>791</th>\n",
              "      <td>TEST_791</td>\n",
              "      <td>훼손</td>\n",
              "    </tr>\n",
              "  </tbody>\n",
              "</table>\n",
              "<p>792 rows × 2 columns</p>\n",
              "</div>"
            ],
            "text/plain": [
              "           id label\n",
              "0    TEST_000    훼손\n",
              "1    TEST_001    훼손\n",
              "2    TEST_002    훼손\n",
              "3    TEST_003    훼손\n",
              "4    TEST_004    훼손\n",
              "..        ...   ...\n",
              "787  TEST_787    훼손\n",
              "788  TEST_788    훼손\n",
              "789  TEST_789    훼손\n",
              "790  TEST_790    훼손\n",
              "791  TEST_791    훼손\n",
              "\n",
              "[792 rows x 2 columns]"
            ]
          },
          "execution_count": 39,
          "metadata": {},
          "output_type": "execute_result"
        }
      ],
      "source": [
        "submit = pd.read_csv('dobae/open/sample_submission.csv')\n",
        "submit"
      ]
    },
    {
      "cell_type": "code",
      "execution_count": null,
      "id": "e599c20f-07db-4089-984a-7a27b9330c2e",
      "metadata": {
        "jupyter": {
          "outputs_hidden": true
        },
        "tags": [],
        "id": "e599c20f-07db-4089-984a-7a27b9330c2e",
        "outputId": "10b46cd0-4989-468f-c1c7-f71cac2f49bd"
      },
      "outputs": [
        {
          "data": {
            "text/html": [
              "<div>\n",
              "<style scoped>\n",
              "    .dataframe tbody tr th:only-of-type {\n",
              "        vertical-align: middle;\n",
              "    }\n",
              "\n",
              "    .dataframe tbody tr th {\n",
              "        vertical-align: top;\n",
              "    }\n",
              "\n",
              "    .dataframe thead th {\n",
              "        text-align: right;\n",
              "    }\n",
              "</style>\n",
              "<table border=\"1\" class=\"dataframe\">\n",
              "  <thead>\n",
              "    <tr style=\"text-align: right;\">\n",
              "      <th></th>\n",
              "      <th>id</th>\n",
              "      <th>label</th>\n",
              "    </tr>\n",
              "  </thead>\n",
              "  <tbody>\n",
              "    <tr>\n",
              "      <th>0</th>\n",
              "      <td>TEST_000</td>\n",
              "      <td>18</td>\n",
              "    </tr>\n",
              "    <tr>\n",
              "      <th>1</th>\n",
              "      <td>TEST_001</td>\n",
              "      <td>10</td>\n",
              "    </tr>\n",
              "    <tr>\n",
              "      <th>2</th>\n",
              "      <td>TEST_002</td>\n",
              "      <td>18</td>\n",
              "    </tr>\n",
              "    <tr>\n",
              "      <th>3</th>\n",
              "      <td>TEST_003</td>\n",
              "      <td>7</td>\n",
              "    </tr>\n",
              "    <tr>\n",
              "      <th>4</th>\n",
              "      <td>TEST_004</td>\n",
              "      <td>10</td>\n",
              "    </tr>\n",
              "    <tr>\n",
              "      <th>...</th>\n",
              "      <td>...</td>\n",
              "      <td>...</td>\n",
              "    </tr>\n",
              "    <tr>\n",
              "      <th>787</th>\n",
              "      <td>TEST_787</td>\n",
              "      <td>18</td>\n",
              "    </tr>\n",
              "    <tr>\n",
              "      <th>788</th>\n",
              "      <td>TEST_788</td>\n",
              "      <td>10</td>\n",
              "    </tr>\n",
              "    <tr>\n",
              "      <th>789</th>\n",
              "      <td>TEST_789</td>\n",
              "      <td>10</td>\n",
              "    </tr>\n",
              "    <tr>\n",
              "      <th>790</th>\n",
              "      <td>TEST_790</td>\n",
              "      <td>10</td>\n",
              "    </tr>\n",
              "    <tr>\n",
              "      <th>791</th>\n",
              "      <td>TEST_791</td>\n",
              "      <td>14</td>\n",
              "    </tr>\n",
              "  </tbody>\n",
              "</table>\n",
              "<p>792 rows × 2 columns</p>\n",
              "</div>"
            ],
            "text/plain": [
              "           id  label\n",
              "0    TEST_000     18\n",
              "1    TEST_001     10\n",
              "2    TEST_002     18\n",
              "3    TEST_003      7\n",
              "4    TEST_004     10\n",
              "..        ...    ...\n",
              "787  TEST_787     18\n",
              "788  TEST_788     10\n",
              "789  TEST_789     10\n",
              "790  TEST_790     10\n",
              "791  TEST_791     14\n",
              "\n",
              "[792 rows x 2 columns]"
            ]
          },
          "execution_count": 40,
          "metadata": {},
          "output_type": "execute_result"
        }
      ],
      "source": [
        "submit['label'] = last_preds\n",
        "submit"
      ]
    },
    {
      "cell_type": "code",
      "execution_count": null,
      "id": "283c4dd0-383b-4ff0-9ece-61e42183ad18",
      "metadata": {
        "id": "283c4dd0-383b-4ff0-9ece-61e42183ad18"
      },
      "outputs": [],
      "source": [
        "submit.loc[submit['label'] == 0, 'label'] = '가구수정'\n",
        "submit.loc[submit['label'] == 1, 'label'] = '걸레받이수정'\n",
        "submit.loc[submit['label'] == 2, 'label'] = '곰팡이'\n",
        "submit.loc[submit['label'] == 3, 'label'] = '꼬임'\n",
        "submit.loc[submit['label'] == 4, 'label'] = '녹오염'\n",
        "submit.loc[submit['label'] == 5, 'label'] = '들뜸'\n",
        "submit.loc[submit['label'] == 6, 'label'] = '면불량'\n",
        "submit.loc[submit['label'] == 7, 'label'] = '몰딩수정'\n",
        "submit.loc[submit['label'] == 8, 'label'] = '반점'\n",
        "submit.loc[submit['label'] == 9, 'label'] = '석고수정'\n",
        "submit.loc[submit['label'] == 10, 'label'] = '오염'\n",
        "submit.loc[submit['label'] == 11, 'label'] = '오타공'\n",
        "submit.loc[submit['label'] == 12, 'label'] = '울음'\n",
        "submit.loc[submit['label'] == 13, 'label'] = '이음부불량'\n",
        "submit.loc[submit['label'] == 14, 'label'] = '창틀,문틀수정'\n",
        "submit.loc[submit['label'] == 15, 'label'] = '터짐'\n",
        "submit.loc[submit['label'] == 16, 'label'] = '틈새과다'\n",
        "submit.loc[submit['label'] == 17, 'label'] = '피스'\n",
        "submit.loc[submit['label'] == 18, 'label'] = '훼손'"
      ]
    },
    {
      "cell_type": "code",
      "execution_count": null,
      "id": "221cb13a-50b4-4f0b-9366-1a3b9fa9dd08",
      "metadata": {
        "id": "221cb13a-50b4-4f0b-9366-1a3b9fa9dd08",
        "outputId": "351c25fe-5a98-4f67-da12-c489ed2a9629"
      },
      "outputs": [
        {
          "data": {
            "text/html": [
              "<div>\n",
              "<style scoped>\n",
              "    .dataframe tbody tr th:only-of-type {\n",
              "        vertical-align: middle;\n",
              "    }\n",
              "\n",
              "    .dataframe tbody tr th {\n",
              "        vertical-align: top;\n",
              "    }\n",
              "\n",
              "    .dataframe thead th {\n",
              "        text-align: right;\n",
              "    }\n",
              "</style>\n",
              "<table border=\"1\" class=\"dataframe\">\n",
              "  <thead>\n",
              "    <tr style=\"text-align: right;\">\n",
              "      <th></th>\n",
              "      <th>id</th>\n",
              "      <th>label</th>\n",
              "    </tr>\n",
              "  </thead>\n",
              "  <tbody>\n",
              "    <tr>\n",
              "      <th>0</th>\n",
              "      <td>TEST_000</td>\n",
              "      <td>훼손</td>\n",
              "    </tr>\n",
              "    <tr>\n",
              "      <th>1</th>\n",
              "      <td>TEST_001</td>\n",
              "      <td>오염</td>\n",
              "    </tr>\n",
              "    <tr>\n",
              "      <th>2</th>\n",
              "      <td>TEST_002</td>\n",
              "      <td>훼손</td>\n",
              "    </tr>\n",
              "    <tr>\n",
              "      <th>3</th>\n",
              "      <td>TEST_003</td>\n",
              "      <td>몰딩수정</td>\n",
              "    </tr>\n",
              "    <tr>\n",
              "      <th>4</th>\n",
              "      <td>TEST_004</td>\n",
              "      <td>오염</td>\n",
              "    </tr>\n",
              "    <tr>\n",
              "      <th>...</th>\n",
              "      <td>...</td>\n",
              "      <td>...</td>\n",
              "    </tr>\n",
              "    <tr>\n",
              "      <th>787</th>\n",
              "      <td>TEST_787</td>\n",
              "      <td>훼손</td>\n",
              "    </tr>\n",
              "    <tr>\n",
              "      <th>788</th>\n",
              "      <td>TEST_788</td>\n",
              "      <td>오염</td>\n",
              "    </tr>\n",
              "    <tr>\n",
              "      <th>789</th>\n",
              "      <td>TEST_789</td>\n",
              "      <td>오염</td>\n",
              "    </tr>\n",
              "    <tr>\n",
              "      <th>790</th>\n",
              "      <td>TEST_790</td>\n",
              "      <td>오염</td>\n",
              "    </tr>\n",
              "    <tr>\n",
              "      <th>791</th>\n",
              "      <td>TEST_791</td>\n",
              "      <td>창틀,문틀수정</td>\n",
              "    </tr>\n",
              "  </tbody>\n",
              "</table>\n",
              "<p>792 rows × 2 columns</p>\n",
              "</div>"
            ],
            "text/plain": [
              "           id    label\n",
              "0    TEST_000       훼손\n",
              "1    TEST_001       오염\n",
              "2    TEST_002       훼손\n",
              "3    TEST_003     몰딩수정\n",
              "4    TEST_004       오염\n",
              "..        ...      ...\n",
              "787  TEST_787       훼손\n",
              "788  TEST_788       오염\n",
              "789  TEST_789       오염\n",
              "790  TEST_790       오염\n",
              "791  TEST_791  창틀,문틀수정\n",
              "\n",
              "[792 rows x 2 columns]"
            ]
          },
          "execution_count": 42,
          "metadata": {},
          "output_type": "execute_result"
        }
      ],
      "source": [
        "submit"
      ]
    },
    {
      "cell_type": "code",
      "execution_count": null,
      "id": "edb108d4-b702-454a-9c44-148a4284df0f",
      "metadata": {
        "id": "edb108d4-b702-454a-9c44-148a4284df0f"
      },
      "outputs": [],
      "source": [
        "submit.to_csv('./4_19_오후_EFB4_resize300_last.csv', index=False)"
      ]
    },
    {
      "cell_type": "markdown",
      "id": "16dca1ba-ba20-47ea-a713-83dfd9829eb6",
      "metadata": {
        "tags": [],
        "id": "16dca1ba-ba20-47ea-a713-83dfd9829eb6"
      },
      "source": [
        "## 베스트 모델"
      ]
    },
    {
      "cell_type": "code",
      "execution_count": null,
      "id": "c47e9f86-8fcf-4dce-8950-4cc2d3701cf2",
      "metadata": {
        "id": "c47e9f86-8fcf-4dce-8950-4cc2d3701cf2",
        "outputId": "10912235-59b3-4011-ca8f-f96728095a43"
      },
      "outputs": [
        {
          "data": {
            "text/plain": [
              "<All keys matched successfully>"
            ]
          },
          "execution_count": 33,
          "metadata": {},
          "output_type": "execute_result"
        }
      ],
      "source": [
        "best_state_dict = torch.load('best_checkpoint.pth')\n",
        "best_model = model\n",
        "best_model.to(device)\n",
        "best_model.load_state_dict(best_state_dict)"
      ]
    },
    {
      "cell_type": "code",
      "execution_count": null,
      "id": "d49000e1-bf9b-4323-b1de-fa4e9f380a86",
      "metadata": {
        "id": "d49000e1-bf9b-4323-b1de-fa4e9f380a86"
      },
      "outputs": [],
      "source": [
        "best_model.eval()\n",
        "best_preds= inference(best_model, testloader, device)"
      ]
    },
    {
      "cell_type": "code",
      "execution_count": null,
      "id": "d68e4c60-c79a-4180-9669-b3abc12fbc1a",
      "metadata": {
        "jupyter": {
          "outputs_hidden": true
        },
        "tags": [],
        "id": "d68e4c60-c79a-4180-9669-b3abc12fbc1a"
      },
      "outputs": [],
      "source": [
        "submit = pd.read_csv('dobae/open/sample_submission.csv')\n",
        "submit"
      ]
    },
    {
      "cell_type": "code",
      "execution_count": null,
      "id": "8db9b4e5-72f7-40cb-9941-60a55c78cb00",
      "metadata": {
        "jupyter": {
          "outputs_hidden": true
        },
        "id": "8db9b4e5-72f7-40cb-9941-60a55c78cb00"
      },
      "outputs": [],
      "source": [
        "submit['label'] = best_preds\n",
        "submit"
      ]
    },
    {
      "cell_type": "code",
      "execution_count": null,
      "id": "fc288764-1ab2-4687-9917-8f248c4b3945",
      "metadata": {
        "jupyter": {
          "source_hidden": true
        },
        "id": "fc288764-1ab2-4687-9917-8f248c4b3945"
      },
      "outputs": [],
      "source": [
        "submit.loc[submit['label'] == 0, 'label'] = '가구수정'\n",
        "submit.loc[submit['label'] == 1, 'label'] = '걸레받이수정'\n",
        "submit.loc[submit['label'] == 2, 'label'] = '곰팡이'\n",
        "submit.loc[submit['label'] == 3, 'label'] = '꼬임'\n",
        "submit.loc[submit['label'] == 4, 'label'] = '녹오염'\n",
        "submit.loc[submit['label'] == 5, 'label'] = '들뜸'\n",
        "submit.loc[submit['label'] == 6, 'label'] = '면불량'\n",
        "submit.loc[submit['label'] == 7, 'label'] = '몰딩수정'\n",
        "submit.loc[submit['label'] == 8, 'label'] = '반점'\n",
        "submit.loc[submit['label'] == 9, 'label'] = '석고수정'\n",
        "submit.loc[submit['label'] == 10, 'label'] = '오염'\n",
        "submit.loc[submit['label'] == 11, 'label'] = '오타공'\n",
        "submit.loc[submit['label'] == 12, 'label'] = '울음'\n",
        "submit.loc[submit['label'] == 13, 'label'] = '이음부불량'\n",
        "submit.loc[submit['label'] == 14, 'label'] = '창틀,문틀수정'\n",
        "submit.loc[submit['label'] == 15, 'label'] = '터짐'\n",
        "submit.loc[submit['label'] == 16, 'label'] = '틈새과다'\n",
        "submit.loc[submit['label'] == 17, 'label'] = '피스'\n",
        "submit.loc[submit['label'] == 18, 'label'] = '훼손'"
      ]
    },
    {
      "cell_type": "code",
      "execution_count": null,
      "id": "e63b99d1-2f15-412f-b821-22b583ca711a",
      "metadata": {
        "jupyter": {
          "outputs_hidden": true
        },
        "id": "e63b99d1-2f15-412f-b821-22b583ca711a"
      },
      "outputs": [],
      "source": [
        "submit"
      ]
    },
    {
      "cell_type": "code",
      "execution_count": null,
      "id": "85b39f7e-cf2a-494e-a941-1b7c62143c67",
      "metadata": {
        "id": "85b39f7e-cf2a-494e-a941-1b7c62143c67"
      },
      "outputs": [],
      "source": [
        "submit.to_csv('./4_20_새벽_f1_resize300_best.csv', index=False)"
      ]
    },
    {
      "cell_type": "markdown",
      "id": "462c8e06-d60b-42f3-93bc-99886cf8be0e",
      "metadata": {
        "tags": [],
        "id": "462c8e06-d60b-42f3-93bc-99886cf8be0e"
      },
      "source": [
        "# 9. 비교하기"
      ]
    },
    {
      "cell_type": "code",
      "execution_count": null,
      "id": "d5e5294b-ac7d-49f4-8f7b-8a9d577033e5",
      "metadata": {
        "collapsed": true,
        "jupyter": {
          "outputs_hidden": true
        },
        "tags": [],
        "id": "d5e5294b-ac7d-49f4-8f7b-8a9d577033e5"
      },
      "outputs": [],
      "source": [
        "compare_df = pd.DataFrame(columns=['common_preds', 'last_preds', 'best_preds'])"
      ]
    },
    {
      "cell_type": "code",
      "execution_count": null,
      "id": "91714c5a-4b0a-49d1-bdeb-32c0217cde8e",
      "metadata": {
        "id": "91714c5a-4b0a-49d1-bdeb-32c0217cde8e"
      },
      "outputs": [],
      "source": [
        "compare_df['common_preds'] = preds\n",
        "compare_df['last_preds'] = last_preds\n",
        "compare_df['best_preds'] = best_preds"
      ]
    },
    {
      "cell_type": "code",
      "execution_count": null,
      "id": "8dcfd64b-7bb6-4c69-9571-6f77ff27b404",
      "metadata": {
        "id": "8dcfd64b-7bb6-4c69-9571-6f77ff27b404"
      },
      "outputs": [],
      "source": [
        "compare_df.to_csv('4_18_오후_compare_preds_Ver_resize300.csv', index=False)"
      ]
    },
    {
      "cell_type": "code",
      "execution_count": null,
      "id": "240b40ce-acd7-41ba-a288-b3043bf853c0",
      "metadata": {
        "jupyter": {
          "outputs_hidden": true
        },
        "tags": [],
        "id": "240b40ce-acd7-41ba-a288-b3043bf853c0"
      },
      "outputs": [],
      "source": [
        "compare_df"
      ]
    },
    {
      "cell_type": "code",
      "execution_count": null,
      "id": "6bd6eefd-4c6b-4e5e-a763-d42de4677bf0",
      "metadata": {
        "jupyter": {
          "outputs_hidden": true
        },
        "tags": [],
        "id": "6bd6eefd-4c6b-4e5e-a763-d42de4677bf0"
      },
      "outputs": [],
      "source": [
        "compare_df.count()"
      ]
    },
    {
      "cell_type": "code",
      "execution_count": null,
      "id": "29a9efde-e383-4422-b6be-787476b68a70",
      "metadata": {
        "jupyter": {
          "outputs_hidden": true
        },
        "tags": [],
        "id": "29a9efde-e383-4422-b6be-787476b68a70"
      },
      "outputs": [],
      "source": [
        "compare_df['best_preds'].value_counts()"
      ]
    },
    {
      "cell_type": "code",
      "execution_count": null,
      "id": "6aa72b65-a5cc-4d71-a027-d18f83459f73",
      "metadata": {
        "id": "6aa72b65-a5cc-4d71-a027-d18f83459f73",
        "outputId": "3c7a853b-f8cc-4041-f6b9-728b61fb8316"
      },
      "outputs": [
        {
          "data": {
            "text/plain": [
              "0    18\n",
              "Name: best_preds, dtype: int64"
            ]
          },
          "execution_count": 62,
          "metadata": {},
          "output_type": "execute_result"
        }
      ],
      "source": [
        "compare_df['best_preds'].mode()"
      ]
    },
    {
      "cell_type": "code",
      "execution_count": null,
      "id": "f55e5f9c-ec33-4d6b-a094-071d40b7140a",
      "metadata": {
        "id": "f55e5f9c-ec33-4d6b-a094-071d40b7140a"
      },
      "outputs": [],
      "source": [
        "df1=compare_df.mode(axis=1)"
      ]
    },
    {
      "cell_type": "code",
      "execution_count": null,
      "id": "fffe6cf5-103e-407e-aee3-3fa185cb7085",
      "metadata": {
        "id": "fffe6cf5-103e-407e-aee3-3fa185cb7085",
        "outputId": "284de133-47ff-4ddb-93d7-5d8b42edaa8c"
      },
      "outputs": [
        {
          "data": {
            "text/html": [
              "<div>\n",
              "<style scoped>\n",
              "    .dataframe tbody tr th:only-of-type {\n",
              "        vertical-align: middle;\n",
              "    }\n",
              "\n",
              "    .dataframe tbody tr th {\n",
              "        vertical-align: top;\n",
              "    }\n",
              "\n",
              "    .dataframe thead th {\n",
              "        text-align: right;\n",
              "    }\n",
              "</style>\n",
              "<table border=\"1\" class=\"dataframe\">\n",
              "  <thead>\n",
              "    <tr style=\"text-align: right;\">\n",
              "      <th></th>\n",
              "      <th>0</th>\n",
              "      <th>1</th>\n",
              "      <th>2</th>\n",
              "    </tr>\n",
              "  </thead>\n",
              "  <tbody>\n",
              "    <tr>\n",
              "      <th>0</th>\n",
              "      <td>18.0</td>\n",
              "      <td>NaN</td>\n",
              "      <td>NaN</td>\n",
              "    </tr>\n",
              "    <tr>\n",
              "      <th>1</th>\n",
              "      <td>10.0</td>\n",
              "      <td>NaN</td>\n",
              "      <td>NaN</td>\n",
              "    </tr>\n",
              "    <tr>\n",
              "      <th>2</th>\n",
              "      <td>18.0</td>\n",
              "      <td>NaN</td>\n",
              "      <td>NaN</td>\n",
              "    </tr>\n",
              "    <tr>\n",
              "      <th>3</th>\n",
              "      <td>7.0</td>\n",
              "      <td>NaN</td>\n",
              "      <td>NaN</td>\n",
              "    </tr>\n",
              "    <tr>\n",
              "      <th>4</th>\n",
              "      <td>10.0</td>\n",
              "      <td>NaN</td>\n",
              "      <td>NaN</td>\n",
              "    </tr>\n",
              "    <tr>\n",
              "      <th>...</th>\n",
              "      <td>...</td>\n",
              "      <td>...</td>\n",
              "      <td>...</td>\n",
              "    </tr>\n",
              "    <tr>\n",
              "      <th>787</th>\n",
              "      <td>18.0</td>\n",
              "      <td>NaN</td>\n",
              "      <td>NaN</td>\n",
              "    </tr>\n",
              "    <tr>\n",
              "      <th>788</th>\n",
              "      <td>10.0</td>\n",
              "      <td>NaN</td>\n",
              "      <td>NaN</td>\n",
              "    </tr>\n",
              "    <tr>\n",
              "      <th>789</th>\n",
              "      <td>10.0</td>\n",
              "      <td>NaN</td>\n",
              "      <td>NaN</td>\n",
              "    </tr>\n",
              "    <tr>\n",
              "      <th>790</th>\n",
              "      <td>10.0</td>\n",
              "      <td>NaN</td>\n",
              "      <td>NaN</td>\n",
              "    </tr>\n",
              "    <tr>\n",
              "      <th>791</th>\n",
              "      <td>14.0</td>\n",
              "      <td>NaN</td>\n",
              "      <td>NaN</td>\n",
              "    </tr>\n",
              "  </tbody>\n",
              "</table>\n",
              "<p>792 rows × 3 columns</p>\n",
              "</div>"
            ],
            "text/plain": [
              "        0   1   2\n",
              "0    18.0 NaN NaN\n",
              "1    10.0 NaN NaN\n",
              "2    18.0 NaN NaN\n",
              "3     7.0 NaN NaN\n",
              "4    10.0 NaN NaN\n",
              "..    ...  ..  ..\n",
              "787  18.0 NaN NaN\n",
              "788  10.0 NaN NaN\n",
              "789  10.0 NaN NaN\n",
              "790  10.0 NaN NaN\n",
              "791  14.0 NaN NaN\n",
              "\n",
              "[792 rows x 3 columns]"
            ]
          },
          "execution_count": 70,
          "metadata": {},
          "output_type": "execute_result"
        }
      ],
      "source": [
        "df1"
      ]
    },
    {
      "cell_type": "code",
      "execution_count": null,
      "id": "9e6ab023-a574-4b5a-8320-9c845817c971",
      "metadata": {
        "id": "9e6ab023-a574-4b5a-8320-9c845817c971"
      },
      "outputs": [],
      "source": []
    }
  ],
  "metadata": {
    "kernelspec": {
      "display_name": "Python 3 (ipykernel)",
      "language": "python",
      "name": "python3"
    },
    "language_info": {
      "codemirror_mode": {
        "name": "ipython",
        "version": 3
      },
      "file_extension": ".py",
      "mimetype": "text/x-python",
      "name": "python",
      "nbconvert_exporter": "python",
      "pygments_lexer": "ipython3",
      "version": "3.10.10"
    },
    "colab": {
      "provenance": [],
      "toc_visible": true
    }
  },
  "nbformat": 4,
  "nbformat_minor": 5
}